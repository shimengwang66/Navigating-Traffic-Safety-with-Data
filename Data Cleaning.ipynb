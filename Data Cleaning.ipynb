{
 "cells": [
  {
   "cell_type": "markdown",
   "id": "f3c9971c",
   "metadata": {},
   "source": [
    "# NYC Motor Vehicle Crashes Dataset Cleaning"
   ]
  },
  {
   "cell_type": "code",
   "execution_count": 64,
   "id": "5ea79ab6",
   "metadata": {},
   "outputs": [
    {
     "data": {
      "text/html": [
       "<div>\n",
       "<style scoped>\n",
       "    .dataframe tbody tr th:only-of-type {\n",
       "        vertical-align: middle;\n",
       "    }\n",
       "\n",
       "    .dataframe tbody tr th {\n",
       "        vertical-align: top;\n",
       "    }\n",
       "\n",
       "    .dataframe thead th {\n",
       "        text-align: right;\n",
       "    }\n",
       "</style>\n",
       "<table border=\"1\" class=\"dataframe\">\n",
       "  <thead>\n",
       "    <tr style=\"text-align: right;\">\n",
       "      <th></th>\n",
       "      <th>CRASH DATE</th>\n",
       "      <th>CRASH TIME</th>\n",
       "      <th>BOROUGH</th>\n",
       "      <th>ZIP CODE</th>\n",
       "      <th>LATITUDE</th>\n",
       "      <th>LONGITUDE</th>\n",
       "      <th>LOCATION</th>\n",
       "      <th>ON STREET NAME</th>\n",
       "      <th>CROSS STREET NAME</th>\n",
       "      <th>OFF STREET NAME</th>\n",
       "      <th>...</th>\n",
       "      <th>CONTRIBUTING FACTOR VEHICLE 2</th>\n",
       "      <th>CONTRIBUTING FACTOR VEHICLE 3</th>\n",
       "      <th>CONTRIBUTING FACTOR VEHICLE 4</th>\n",
       "      <th>CONTRIBUTING FACTOR VEHICLE 5</th>\n",
       "      <th>COLLISION_ID</th>\n",
       "      <th>VEHICLE TYPE CODE 1</th>\n",
       "      <th>VEHICLE TYPE CODE 2</th>\n",
       "      <th>VEHICLE TYPE CODE 3</th>\n",
       "      <th>VEHICLE TYPE CODE 4</th>\n",
       "      <th>VEHICLE TYPE CODE 5</th>\n",
       "    </tr>\n",
       "  </thead>\n",
       "  <tbody>\n",
       "    <tr>\n",
       "      <th>0</th>\n",
       "      <td>09/11/2021</td>\n",
       "      <td>2:39</td>\n",
       "      <td>NaN</td>\n",
       "      <td>NaN</td>\n",
       "      <td>NaN</td>\n",
       "      <td>NaN</td>\n",
       "      <td>NaN</td>\n",
       "      <td>WHITESTONE EXPRESSWAY</td>\n",
       "      <td>20 AVENUE</td>\n",
       "      <td>NaN</td>\n",
       "      <td>...</td>\n",
       "      <td>Unspecified</td>\n",
       "      <td>NaN</td>\n",
       "      <td>NaN</td>\n",
       "      <td>NaN</td>\n",
       "      <td>4455765</td>\n",
       "      <td>Sedan</td>\n",
       "      <td>Sedan</td>\n",
       "      <td>NaN</td>\n",
       "      <td>NaN</td>\n",
       "      <td>NaN</td>\n",
       "    </tr>\n",
       "    <tr>\n",
       "      <th>1</th>\n",
       "      <td>03/26/2022</td>\n",
       "      <td>11:45</td>\n",
       "      <td>NaN</td>\n",
       "      <td>NaN</td>\n",
       "      <td>NaN</td>\n",
       "      <td>NaN</td>\n",
       "      <td>NaN</td>\n",
       "      <td>QUEENSBORO BRIDGE UPPER</td>\n",
       "      <td>NaN</td>\n",
       "      <td>NaN</td>\n",
       "      <td>...</td>\n",
       "      <td>NaN</td>\n",
       "      <td>NaN</td>\n",
       "      <td>NaN</td>\n",
       "      <td>NaN</td>\n",
       "      <td>4513547</td>\n",
       "      <td>Sedan</td>\n",
       "      <td>NaN</td>\n",
       "      <td>NaN</td>\n",
       "      <td>NaN</td>\n",
       "      <td>NaN</td>\n",
       "    </tr>\n",
       "    <tr>\n",
       "      <th>2</th>\n",
       "      <td>06/29/2022</td>\n",
       "      <td>6:55</td>\n",
       "      <td>NaN</td>\n",
       "      <td>NaN</td>\n",
       "      <td>NaN</td>\n",
       "      <td>NaN</td>\n",
       "      <td>NaN</td>\n",
       "      <td>THROGS NECK BRIDGE</td>\n",
       "      <td>NaN</td>\n",
       "      <td>NaN</td>\n",
       "      <td>...</td>\n",
       "      <td>Unspecified</td>\n",
       "      <td>NaN</td>\n",
       "      <td>NaN</td>\n",
       "      <td>NaN</td>\n",
       "      <td>4541903</td>\n",
       "      <td>Sedan</td>\n",
       "      <td>Pick-up Truck</td>\n",
       "      <td>NaN</td>\n",
       "      <td>NaN</td>\n",
       "      <td>NaN</td>\n",
       "    </tr>\n",
       "    <tr>\n",
       "      <th>3</th>\n",
       "      <td>09/11/2021</td>\n",
       "      <td>9:35</td>\n",
       "      <td>BROOKLYN</td>\n",
       "      <td>11208</td>\n",
       "      <td>40.667202</td>\n",
       "      <td>-73.866500</td>\n",
       "      <td>(40.667202, -73.8665)</td>\n",
       "      <td>NaN</td>\n",
       "      <td>NaN</td>\n",
       "      <td>1211      LORING AVENUE</td>\n",
       "      <td>...</td>\n",
       "      <td>NaN</td>\n",
       "      <td>NaN</td>\n",
       "      <td>NaN</td>\n",
       "      <td>NaN</td>\n",
       "      <td>4456314</td>\n",
       "      <td>Sedan</td>\n",
       "      <td>NaN</td>\n",
       "      <td>NaN</td>\n",
       "      <td>NaN</td>\n",
       "      <td>NaN</td>\n",
       "    </tr>\n",
       "    <tr>\n",
       "      <th>4</th>\n",
       "      <td>12/14/2021</td>\n",
       "      <td>8:13</td>\n",
       "      <td>BROOKLYN</td>\n",
       "      <td>11233</td>\n",
       "      <td>40.683304</td>\n",
       "      <td>-73.917274</td>\n",
       "      <td>(40.683304, -73.917274)</td>\n",
       "      <td>SARATOGA AVENUE</td>\n",
       "      <td>DECATUR STREET</td>\n",
       "      <td>NaN</td>\n",
       "      <td>...</td>\n",
       "      <td>NaN</td>\n",
       "      <td>NaN</td>\n",
       "      <td>NaN</td>\n",
       "      <td>NaN</td>\n",
       "      <td>4486609</td>\n",
       "      <td>NaN</td>\n",
       "      <td>NaN</td>\n",
       "      <td>NaN</td>\n",
       "      <td>NaN</td>\n",
       "      <td>NaN</td>\n",
       "    </tr>\n",
       "  </tbody>\n",
       "</table>\n",
       "<p>5 rows × 29 columns</p>\n",
       "</div>"
      ],
      "text/plain": [
       "   CRASH DATE CRASH TIME   BOROUGH ZIP CODE   LATITUDE  LONGITUDE  \\\n",
       "0  09/11/2021       2:39       NaN      NaN        NaN        NaN   \n",
       "1  03/26/2022      11:45       NaN      NaN        NaN        NaN   \n",
       "2  06/29/2022       6:55       NaN      NaN        NaN        NaN   \n",
       "3  09/11/2021       9:35  BROOKLYN    11208  40.667202 -73.866500   \n",
       "4  12/14/2021       8:13  BROOKLYN    11233  40.683304 -73.917274   \n",
       "\n",
       "                  LOCATION           ON STREET NAME CROSS STREET NAME  \\\n",
       "0                      NaN    WHITESTONE EXPRESSWAY         20 AVENUE   \n",
       "1                      NaN  QUEENSBORO BRIDGE UPPER               NaN   \n",
       "2                      NaN       THROGS NECK BRIDGE               NaN   \n",
       "3    (40.667202, -73.8665)                      NaN               NaN   \n",
       "4  (40.683304, -73.917274)          SARATOGA AVENUE    DECATUR STREET   \n",
       "\n",
       "           OFF STREET NAME  ...  CONTRIBUTING FACTOR VEHICLE 2  \\\n",
       "0                      NaN  ...                    Unspecified   \n",
       "1                      NaN  ...                            NaN   \n",
       "2                      NaN  ...                    Unspecified   \n",
       "3  1211      LORING AVENUE  ...                            NaN   \n",
       "4                      NaN  ...                            NaN   \n",
       "\n",
       "   CONTRIBUTING FACTOR VEHICLE 3  CONTRIBUTING FACTOR VEHICLE 4  \\\n",
       "0                            NaN                            NaN   \n",
       "1                            NaN                            NaN   \n",
       "2                            NaN                            NaN   \n",
       "3                            NaN                            NaN   \n",
       "4                            NaN                            NaN   \n",
       "\n",
       "   CONTRIBUTING FACTOR VEHICLE 5  COLLISION_ID  VEHICLE TYPE CODE 1  \\\n",
       "0                            NaN       4455765                Sedan   \n",
       "1                            NaN       4513547                Sedan   \n",
       "2                            NaN       4541903                Sedan   \n",
       "3                            NaN       4456314                Sedan   \n",
       "4                            NaN       4486609                  NaN   \n",
       "\n",
       "   VEHICLE TYPE CODE 2  VEHICLE TYPE CODE 3 VEHICLE TYPE CODE 4  \\\n",
       "0                Sedan                  NaN                 NaN   \n",
       "1                  NaN                  NaN                 NaN   \n",
       "2        Pick-up Truck                  NaN                 NaN   \n",
       "3                  NaN                  NaN                 NaN   \n",
       "4                  NaN                  NaN                 NaN   \n",
       "\n",
       "  VEHICLE TYPE CODE 5  \n",
       "0                 NaN  \n",
       "1                 NaN  \n",
       "2                 NaN  \n",
       "3                 NaN  \n",
       "4                 NaN  \n",
       "\n",
       "[5 rows x 29 columns]"
      ]
     },
     "execution_count": 64,
     "metadata": {},
     "output_type": "execute_result"
    }
   ],
   "source": [
    "import pandas as pd\n",
    "import numpy as np\n",
    "\n",
    "# Load the crash data\n",
    "df = pd.read_csv(\"Motor_Vehicle_Collisions_-_Crashes.csv\", low_memory=False)\n",
    "df.head()"
   ]
  },
  {
   "cell_type": "code",
   "execution_count": 65,
   "id": "70ef3811",
   "metadata": {},
   "outputs": [
    {
     "data": {
      "text/plain": [
       "CRASH DATE                             0\n",
       "CRASH TIME                             0\n",
       "BOROUGH                           641181\n",
       "ZIP CODE                          641429\n",
       "LATITUDE                          232765\n",
       "LONGITUDE                         232765\n",
       "LOCATION                          232765\n",
       "ON STREET NAME                    436626\n",
       "CROSS STREET NAME                 777123\n",
       "OFF STREET NAME                  1716767\n",
       "NUMBER OF PERSONS INJURED             18\n",
       "NUMBER OF PERSONS KILLED              31\n",
       "NUMBER OF PEDESTRIANS INJURED          0\n",
       "NUMBER OF PEDESTRIANS KILLED           0\n",
       "NUMBER OF CYCLIST INJURED              0\n",
       "NUMBER OF CYCLIST KILLED               0\n",
       "NUMBER OF MOTORIST INJURED             0\n",
       "NUMBER OF MOTORIST KILLED              0\n",
       "CONTRIBUTING FACTOR VEHICLE 1       6688\n",
       "CONTRIBUTING FACTOR VEHICLE 2     318213\n",
       "CONTRIBUTING FACTOR VEHICLE 3    1914038\n",
       "CONTRIBUTING FACTOR VEHICLE 4    2027881\n",
       "CONTRIBUTING FACTOR VEHICLE 5    2052056\n",
       "COLLISION_ID                           0\n",
       "VEHICLE TYPE CODE 1                13430\n",
       "VEHICLE TYPE CODE 2               391684\n",
       "VEHICLE TYPE CODE 3              1919315\n",
       "VEHICLE TYPE CODE 4              2029019\n",
       "VEHICLE TYPE CODE 5              2052328\n",
       "dtype: int64"
      ]
     },
     "execution_count": 65,
     "metadata": {},
     "output_type": "execute_result"
    }
   ],
   "source": [
    "# See number of null values in each column\n",
    "df.isna().sum() "
   ]
  },
  {
   "cell_type": "code",
   "execution_count": 66,
   "id": "67d79ad5",
   "metadata": {},
   "outputs": [],
   "source": [
    "# Create a mapping from coordinates to zip codes for rows that have a zip code\n",
    "coordinates_to_zip = df.dropna(subset=['ZIP CODE']).set_index('LOCATION')['ZIP CODE'].to_dict()\n",
    "\n",
    "# Fill missing zip codes using the mapping\n",
    "df['ZIP CODE'] = df.apply(lambda row: coordinates_to_zip.get(row['LOCATION'], row['ZIP CODE']), axis=1)"
   ]
  },
  {
   "cell_type": "code",
   "execution_count": 67,
   "id": "a6210407",
   "metadata": {},
   "outputs": [],
   "source": [
    "# Repeat same process for Borough\n",
    "coordinates_to_borough = df.dropna(subset=['BOROUGH']).set_index('LOCATION')['BOROUGH'].to_dict()\n",
    "df['BOROUGH'] = df.apply(lambda row: coordinates_to_borough.get(row['LOCATION'], row['BOROUGH']), axis=1)"
   ]
  },
  {
   "cell_type": "code",
   "execution_count": 68,
   "id": "84751105",
   "metadata": {},
   "outputs": [
    {
     "data": {
      "text/plain": [
       "CRASH DATE                             0\n",
       "CRASH TIME                             0\n",
       "BOROUGH                           251394\n",
       "ZIP CODE                          251620\n",
       "LATITUDE                          232765\n",
       "LONGITUDE                         232765\n",
       "LOCATION                          232765\n",
       "ON STREET NAME                    436626\n",
       "CROSS STREET NAME                 777123\n",
       "OFF STREET NAME                  1716767\n",
       "NUMBER OF PERSONS INJURED             18\n",
       "NUMBER OF PERSONS KILLED              31\n",
       "NUMBER OF PEDESTRIANS INJURED          0\n",
       "NUMBER OF PEDESTRIANS KILLED           0\n",
       "NUMBER OF CYCLIST INJURED              0\n",
       "NUMBER OF CYCLIST KILLED               0\n",
       "NUMBER OF MOTORIST INJURED             0\n",
       "NUMBER OF MOTORIST KILLED              0\n",
       "CONTRIBUTING FACTOR VEHICLE 1       6688\n",
       "CONTRIBUTING FACTOR VEHICLE 2     318213\n",
       "CONTRIBUTING FACTOR VEHICLE 3    1914038\n",
       "CONTRIBUTING FACTOR VEHICLE 4    2027881\n",
       "CONTRIBUTING FACTOR VEHICLE 5    2052056\n",
       "COLLISION_ID                           0\n",
       "VEHICLE TYPE CODE 1                13430\n",
       "VEHICLE TYPE CODE 2               391684\n",
       "VEHICLE TYPE CODE 3              1919315\n",
       "VEHICLE TYPE CODE 4              2029019\n",
       "VEHICLE TYPE CODE 5              2052328\n",
       "dtype: int64"
      ]
     },
     "execution_count": 68,
     "metadata": {},
     "output_type": "execute_result"
    }
   ],
   "source": [
    "# See updated number of null values for borough and zip code\n",
    "df.isna().sum() "
   ]
  },
  {
   "cell_type": "code",
   "execution_count": 69,
   "id": "6c9a066f",
   "metadata": {},
   "outputs": [],
   "source": [
    "# Remove rows that are still null for borough and zip code (less than 15% of the data is null now)\n",
    "df_cleaned = df.dropna(subset=['ZIP CODE'])\n",
    "df_cleaned = df_cleaned.dropna(subset=['BOROUGH'])\n",
    "\n",
    "# Remove rows that are null for vehicle type 1 and borough (still less than 15% of the data is being removed)\n",
    "df_cleaned = df_cleaned.dropna(subset=['VEHICLE TYPE CODE 1'])\n",
    "df_cleaned = df_cleaned.dropna(subset=['CONTRIBUTING FACTOR VEHICLE 1'])"
   ]
  },
  {
   "cell_type": "code",
   "execution_count": 70,
   "id": "258472d0",
   "metadata": {},
   "outputs": [
    {
     "data": {
      "text/plain": [
       "CRASH DATE                             0\n",
       "CRASH TIME                             0\n",
       "BOROUGH                                0\n",
       "ZIP CODE                               0\n",
       "LATITUDE                          231236\n",
       "LONGITUDE                         231236\n",
       "LOCATION                          231236\n",
       "ON STREET NAME                    367300\n",
       "CROSS STREET NAME                 572213\n",
       "OFF STREET NAME                  1462597\n",
       "NUMBER OF PERSONS INJURED             14\n",
       "NUMBER OF PERSONS KILLED              23\n",
       "NUMBER OF PEDESTRIANS INJURED          0\n",
       "NUMBER OF PEDESTRIANS KILLED           0\n",
       "NUMBER OF CYCLIST INJURED              0\n",
       "NUMBER OF CYCLIST KILLED               0\n",
       "NUMBER OF MOTORIST INJURED             0\n",
       "NUMBER OF MOTORIST KILLED              0\n",
       "CONTRIBUTING FACTOR VEHICLE 1          0\n",
       "CONTRIBUTING FACTOR VEHICLE 2     273747\n",
       "CONTRIBUTING FACTOR VEHICLE 3    1677802\n",
       "CONTRIBUTING FACTOR VEHICLE 4    1767492\n",
       "CONTRIBUTING FACTOR VEHICLE 5    1787009\n",
       "COLLISION_ID                           0\n",
       "VEHICLE TYPE CODE 1                    0\n",
       "VEHICLE TYPE CODE 2               337396\n",
       "VEHICLE TYPE CODE 3              1681423\n",
       "VEHICLE TYPE CODE 4              1768164\n",
       "VEHICLE TYPE CODE 5              1787148\n",
       "dtype: int64"
      ]
     },
     "execution_count": 70,
     "metadata": {},
     "output_type": "execute_result"
    }
   ],
   "source": [
    "# See updated number of null values for borough, zip code, vehicle code 1, contributing factor 1 again\n",
    "df_cleaned.isna().sum() "
   ]
  },
  {
   "cell_type": "code",
   "execution_count": 71,
   "id": "abbb17e6",
   "metadata": {},
   "outputs": [],
   "source": [
    "# Filling null values in \"NUMBER OF PERSONS INJURED\" with the sum of individual injury columns\n",
    "df_cleaned['NUMBER OF PERSONS INJURED'] = df_cleaned['NUMBER OF PERSONS INJURED'].fillna(\n",
    "    df_cleaned['NUMBER OF PEDESTRIANS INJURED'] + \n",
    "    df_cleaned['NUMBER OF CYCLIST INJURED'] + \n",
    "    df_cleaned['NUMBER OF MOTORIST INJURED']\n",
    ")\n",
    "\n",
    "# Filling null values in \"NUMBER OF PERSONS KILLED\" with the sum of individual killed columns\n",
    "df_cleaned['NUMBER OF PERSONS KILLED'] = df_cleaned['NUMBER OF PERSONS KILLED'].fillna(\n",
    "    df_cleaned['NUMBER OF PEDESTRIANS KILLED'] + \n",
    "    df_cleaned['NUMBER OF CYCLIST KILLED'] + \n",
    "    df_cleaned['NUMBER OF MOTORIST KILLED']\n",
    ")"
   ]
  },
  {
   "cell_type": "code",
   "execution_count": 72,
   "id": "ed284093",
   "metadata": {},
   "outputs": [
    {
     "data": {
      "text/plain": [
       "CRASH DATE                             0\n",
       "CRASH TIME                             0\n",
       "BOROUGH                                0\n",
       "ZIP CODE                               0\n",
       "LATITUDE                          231236\n",
       "LONGITUDE                         231236\n",
       "LOCATION                          231236\n",
       "ON STREET NAME                    367300\n",
       "CROSS STREET NAME                 572213\n",
       "OFF STREET NAME                  1462597\n",
       "NUMBER OF PERSONS INJURED              0\n",
       "NUMBER OF PERSONS KILLED               0\n",
       "NUMBER OF PEDESTRIANS INJURED          0\n",
       "NUMBER OF PEDESTRIANS KILLED           0\n",
       "NUMBER OF CYCLIST INJURED              0\n",
       "NUMBER OF CYCLIST KILLED               0\n",
       "NUMBER OF MOTORIST INJURED             0\n",
       "NUMBER OF MOTORIST KILLED              0\n",
       "CONTRIBUTING FACTOR VEHICLE 1          0\n",
       "CONTRIBUTING FACTOR VEHICLE 2     273747\n",
       "CONTRIBUTING FACTOR VEHICLE 3    1677802\n",
       "CONTRIBUTING FACTOR VEHICLE 4    1767492\n",
       "CONTRIBUTING FACTOR VEHICLE 5    1787009\n",
       "COLLISION_ID                           0\n",
       "VEHICLE TYPE CODE 1                    0\n",
       "VEHICLE TYPE CODE 2               337396\n",
       "VEHICLE TYPE CODE 3              1681423\n",
       "VEHICLE TYPE CODE 4              1768164\n",
       "VEHICLE TYPE CODE 5              1787148\n",
       "dtype: int64"
      ]
     },
     "execution_count": 72,
     "metadata": {},
     "output_type": "execute_result"
    }
   ],
   "source": [
    "# See updated number of null values for \"NUMBER OF PERSONS INJURED\" and \"NUMBER OF PERSONS KILLED\"\n",
    "df_cleaned.isna().sum() "
   ]
  },
  {
   "cell_type": "code",
   "execution_count": 73,
   "id": "11ca3f62",
   "metadata": {},
   "outputs": [],
   "source": [
    "# Lowercase all vehicle types to make data cleaning easier\n",
    "df_cleaned['VEHICLE TYPE CODE 1'] = df_cleaned['VEHICLE TYPE CODE 1'].str.lower()\n",
    "df_cleaned['VEHICLE TYPE CODE 2'] = df_cleaned['VEHICLE TYPE CODE 2'].str.lower()"
   ]
  },
  {
   "cell_type": "code",
   "execution_count": 74,
   "id": "c32fb472",
   "metadata": {},
   "outputs": [
    {
     "name": "stdout",
     "output_type": "stream",
     "text": [
      "['sedan', 'dump', 'station wagon/sport utility vehicle', 'tanker', 'bus', 'taxi', 'van', 'motorscooter', 'bike', 'e-bike', 'ambulance', 'box truck', 'garbage or refuse', 'motorcycle', 'e-scooter', 'utility', 'convertible', 'flat bed', 'tow truck / wrecker', 'pick-up truck', '�mbu', 'moped', 'tractor truck diesel', 'trailer', 'school bus', 'lift boom', 'scooter', 'cater', 'pkup', 'carry all', 'fdny ambul', '3-door', 'beverage truck', 'semi trail', 'motorbike', 'unknown', 'lunch wagon', 'flat rack', 'unk', 'uspcs', 'garbage tr', 'minicycle', 'fire truck', 'armored truck', 'usps truck', 'com', 'chassis cab', 'pk', 'sw/van', 'concrete mixer', 'open body', 'excavator', 'fork lift', 'street swe', 'commercial', 'psd', '4 dr sedan', 'mta', 'truck', 'tow truck', 'e bike uni', 'usps vehic', 'fire', 'limo', 'tractor truck gasoline', 'mack', 'refrigerated van', 'stake or rack', 'work van', 'motor scoo', 'pickup tru', 'department', 'nypd van', 'pick up', 'ambulace', '2 dr sedan', 'fdny firet', 'pallet', 'ambulane', 'amb', 'mtr h', 'self', 'golf cart', 'mailtruck', 'ambu', 'delivery', 'tank', 'util', 'pick up tr', 'bulk agriculture', 'ems bus', 'freight', 'forklift', 'hopper', 'mopad', 'postal ser', 'firetruck', 'sanmen cou', 'multi-wheeled vehicle', 'shuttle bu', 'fdny', 'nys ambula', '12 passage', 'ford', 'e scooter', 'van camper', 'golf car', 'rv', 'uhal', 'livestock rack', '.', 'pickup', 'dodge', '50cc scoot', 'dump truck', 'mini van', 'road sweep', 'self insur', 'van/truck', 'street cle', 'lift', 'ems', 'kick scoot', 'semi', 'mta bus', 'electric s', 'cargo van', 'pumper', 'truck comm', 'cement tru', 'ford van', 'delivery t', 'enclosed body - nonremovable enclosure', 'dirt bike', 'skywatch', 'carriage', 'pedicab', 'sprinter v', 'tl', 'mack truck', 'minibike', 'tcn', 'flatbed pi', 'snow plow', 'asphalt ro', 'pick-up tr', 'horse trai', 'escooter s', 'motor home', 'utility ve', 'cmix', 'power shov', 'passenger', 'fdny fire', 'tr', 'smyellscho', 'grumman ll', '994', 'ambulence', 'subn', 'cat forkli', 'utility tr', 'fdny truck', 'dent and s', 'motorized home', 'delv', 'city owned', \"''lime mope\", 'pick wh', 'usps mail', 'crane boom', 'revel scoo', 'pc', 'city', 'nypd tow t', 'work truck', 'usps posta', 'pas', 'nyc sanita', 'gas scoote', 'vms', 'dodge ram', 'suburban', 'hwh', 'unmarked v', 'dumpster t', 'box', 'locomotive', 'cherv', 'post offic', 'skateboard', 'motorized', 'usps', 'enclosed body - removable enclosure', 'f550', 'ram', 'tlr', 'moving tru', 'verzion va', 'constructi', 'yamaha', 'school  bu', 'nonmotords', 'mini bus', 'motorscoot', 'commerical', 'police rep', 'ec3', 'sedona', 'tlc', 'fdny ladde', 'mopd', 'sanitation', 'utility va', 'garbage', 'fire engin', 'mail truck', 'gas powere', 'pas (4dr s', 'horse carr', 'econoline', 'frt', 'fdny engin', 'ups', 'd2', 'engine sp0', 'pass', 'usps small', 'pickup with mounted camper', 'pick-up', 'us mail tr', 'street', 'gas mo ped', 'citywide', 'scooter ga', 'postal tru', 'pro master', 'us postal', 'van wh', 'suv', 'freight tr', 'emt ambula', 'food cart', 'app', 'boom lift', 'tk', 'freig', 'dumptruck', 'toyota', 'spr', 'jeep', 'log', 'mini schoo', 'fdny lader', 'city vehic', 'u-haul min', '12 passeng', 'ems truck', 'government', 'ford picku', 'principle', 'sp purpose', 'ambulette', 'nyc transi', 'nyc parks', 'tractor', 'ups truck', 'nycha van', 'con ed tru', 'usps van', 'house on w', 'gator 4x4', 'bobcat', 'sonata', 'frieg', 'nypd', 'backhoe re', 'freightlin', 'yw school', 'u-haul', 'jetski', 'tractor tr', 'ice cream', 'fedex truc', 'f550 esu r', 'other', 'ems fdny b', 'stak', 'bucket tru', 'penske box', '7', 'yellow tax', 'tow', 'smart', 'nj transit', 'schoolbus', 'crf carria', 'govt', 'minivan', 'city of ne', 'fedex box', '997', 'promaster', 'trolley ri', 'van truck', 'sprinter w', 'com delive', 'rz', 'mail', 'limousine', 'e bike w p', 'crane', 'g com', 'nyc fire t', 'ford sprin', 'backhoe lo', 'refg', 'power ladd', 'mercedes', 'oml/omnibu', 'well driller', 'vanette', 'ems ambula', 'trac', 'nyc ambula', 'cmixer', 'trailer/fl', 'postal veh', 'flat', 'g psd', 'hertz ram', 'subn - amb', 'spark150 s', 'trailee', 'special co', 'quality tr', 'ems/van', 'co', '7532433', '4ds', 'sanitaion', 'ram promas', 'skid loade', 'marked van', 'hd', 'c1', 'bulldozer', 'nynj rail', 'glass rack', 'trk', 'fdny ems', 'mta truck', 'niu', 'usps truc,', 'na', 'firet truc', 'g amb', 'utility wh', 'fedex', 'u haul tru', 'subr', 'nyc ems', 'rep', 'refuse tru', 'flat bed t', 'truck trai', 'ladder tru', 'sanitaton', 'e-skateboa', 'usps 88716', 'ebike', 'perm', 'forlift', 'motor skat', 'can', 'flatbed fr', 'postal van', 'firtruck', 'ttailer', 'usps/govt', 'truck van', 'catapillar', 'swt', 'flat  bed', 'courier', 'leased amb', 'smart car', 'message si', 'e-unicycle', 'lawnmower', 'bicycle', 'almbulance', 'dark color', 'fd ladder', 'abulance', 'oth', 'go kart', 'slingshot', 'dilevery t', 'fdny #226', 'freight fl', 'unkn', 'moving van', 'backhoe', 'horse', 'bobcat for', 'delivery v', 'dot equipm', 'gen  ambul', 'j1', '18 wheeler', 'front-load', 'drill rig', 'wh ford co', 'e revel sc', 'light trai', 'ut', 'cross', 'food truck', 'gator', 'john deere', 'back hoe', 'mechanical', 'chevrolet', 'nyc fd', 'camper tra', 'fusion', 'lcomm', 'flatbed', 'hrse', '0', 'postal bus', 'f150xl pic', 'cat', 'subn whi', 'e bike', 'elec. unic', '1c', 'white ambu', 'utility.', 'trl', 'delviery', 'e-bik', 'escavator', 'omr', 'p/sh', 'ford econo', 'pick', 'usps #7530', 'hearse', 'orion', 'h1', 'piggy back', 'se', 'push scoot', 'nat grid t', 'yellow cab', 'com trans', 'backh', 'd/v wb', 'emergency', 'wagon', 't880', 'pay loader', 'fdny ems v', 'rv/van', 'tr-trailer', 'esu rescue', 'i-haul', 'rmp v', 'yellowpowe', 'skate', '197209', 'posta', 'e450', 'utili', 'ambul', 'schoo', 'trail', 'tow t', 'e-sco', 'towe truck', 'st', 'amulance', 'unkno', 'dept van #', 'grumm', 'firet', 'e bik', 'psh', 'us po', 'golf', 'tract', 'box t', 'uhual', 'delvi', 'scoot', 'picku', 'deliv', 'l1', 'forkl', 'van t', 'paylo', 'sanit', 'econo', 'van/t', 'fuel', 'trc', 'tanke', 'garba', '3 whe', '2015', 'road', 'dot t', 'mta b', 'flat/', 'food', 'comme', 'acces', 'stree', 'liebh', 'cab', 'usp m', 'santi', 'ltr', 'prks', 'g spc', 'cont', 'hi ta', 'cat.', 'polic', 'parce', 'comm', '35 ft', 'wineb', 'pu', 'boxtr', 'white', 'towtr', 'pick-', 'power', 'mini', 'elect', 'fork', 'vespa', 'sprin', 'mobil', 'back', 'uhaul', 'bs', 'excav', 'dolly', 'appor', 'f650', 'skid-', 'e sco', 'ice c', 'motor', 'kubot', 'nys a', 'range', 'lmb', 'bulld', 'van (', 'barri', 'comm.', 'unkow', 'btm', 'nttrl', 'yello', 'trlr', 'movin', 'subur', 'rescu', 'couri', 'e - b', 'navig', 'commu', 'c3', 'tir', 'const', 'track exca', 'concr', 'dumps', 'cat p', 'boom', 'rmp', 'passe', 'dirt', 'segwa', 'sc', 'sea', 'moter', 'u-hau', 'bucke', 'bk', 'nycha', 'snow', 'comer', 'grain', 'e amb', 'a', 'tktr', 'vav', 'santa', 'none', 'gover', 'te', 'ltrl', '\\x7fomm', 'trans', 'mac t', 'ups t', 'nissa', 'cms-t', 'red t', 'usps2', 'bicyc', 'nyc d', 'frht', 'uspos', 'mc', 'ems a', 'track', 'van c', 'diese', 'budge', 'omnib', 'fed e', 'fd fi', 'spc', 'comix', 'van a', 'limou', '12 pa', 'dumpt', 'light', 'tower', 'boat', 'e com', 'mark', 'emrgn', 'flatb', 'rd/s', 'coupe', 'work', 'workh', '2- to', 'broom', 'trt', 'block', 'cherr', 'utv', 'nyc', 'loade', 'ns am', 'new y', 'gray', 'front', 'camp', 'rgs', 'posto', 'r/v c', 'cat 9', 'e-mot', 'fork-', 'wheel', 'fd tr', 'sweep', 'case', 'liber', 'cushm', 'heavy', 'r/v', 'bobca', 'dema-', 'cart', 'cemen', 'trlr plt,', 'spec', '99999', 'seagr', 'van/b', 'chart', 'mcy', 'icecr', 'amabu', 'tow-t', 'cargo', '15 pa', 'inter', 'pump', 'nyc a', 'dot r', 'highl', '2 ton', 'e-350', 'commm', 'electric b', 'g sem', 'marke', 'veriz', 'van w', 'farm vehicle', 'passa', 'c0mme', 'oil t', 'house', 'self-', 'u.s. posta', 'e one', '4whee', 'semi-', 'bucketload', '3dc-', 'mecha', 'free', '315 e', 'liver', 'rubbe', 'carri', 'dp', '1s', 'abula', 'gov v', 'nyc bus', 'ladde', 'omni', 'nyc f', 'pedic', 'renta', 'hino', 'john', 'st150', 'ge/sc', 'vang', 'small', 'pavin', 'psr', 'mo pa', 'refri', 'east', 'priva', 'livery bus', 'elec.', 'sterl', 'sd', 'tl tr', 'state', 'tram', 'cabin', 'mta u', 'dirtb', 'del', 'glben', 'nt tr', 'oml', 'tf', '4 axe', 'kme/f', 'nycta', 'token', 'mtr s', 'oz mo', 'winne', 'delie', '3 doo', 'bobct', 'mcy b', 'catip', 'progr', 'mvp', 'miniv', 'ringo', 'workm', '1', 'rmb', 'yw po', 'pet', 'mo pe', 'yamah', 'u hau', 'pois', 'feig', 'mta c', 'g1', 'ladder 34', 'depar', '4d', '4dr', 'f15', '5x8 t', '18 wh', 'esu t', 'shove', 'unkown', 'tcm', 'armor', 'geico', 'vab', 'sw', 'pumpe', 'g tow', 'kenwo', 'omt', 'repai', 'utlit', 'scoo', 'kp160', '4 run', 'ld', 'snowmobile', 'rood', '?omme', 'sybn', 'plow', 'usps # 487', 'fleet', 'fedx', 'stake', 'us', 'ems t', 'vpg', 'atv p', 'trac.', '5', 'conve', 'sub', 'olc', 'chevr', '3door', 'e.m.s', 'scomm', 'black', 'maxim', 'ps', '985', 't/ cr', 'swepe', 'sport utility / station wagon', 'e tow', 'omt/t', 'scl', 'firer', 'green', 'ems b', 'fr`', 'a-one', 'scooc', 'yy', '2 whe', 'rv/tr', 'psp', 'gokar', 'e- bi', 'us ma', 'servi', 'sm yw', 'hosre', 'nyfd', 'trali', '26 ft', 'engin', 'dhl t', 'contr', '9999', 'nyu s', 'cm', 'suret', 'pass-', 'box h', 'passenger vehicle', 'pas v', 'coach', 'con e', 'd3', '250-3', 'com v', 'towma', 'deiv', 'govt.', 'yale', 'h3', 'p/u', 'hd to', 'scom', 'lcom', 'left', 'coll', 'no/bu', '2 dr', 'ups m', 'refr', 'small com veh(4 tires) ', '3-whe', 'not i', 'ecom', 'whit', '4dsd', 'aeria', '2 doo', 'conti', 'c 1', '2000', 'grail', 'i1', 'hi-lo', 'hdc', 'van e', 'ukn', 'mta v', '4sedn', 'flat-', 'bkhoe', 'tc', '11111', 'us go', 'tlc p', 'fled', 'lsa', 'vanet', 'u-hal', 'c2', 'high', 'chev', 'frh', 'farm', 'g scl', 'livery vehicle', 'large com veh(6 or more tires)', 'military', 'chassis &', 'motorizeds', 'marked rmp', 'police veh', 'wag', 'x amb', 'in line sk', '999', '2 wheel sc', 'fd truck', 'pepsi deli', 'delv wh', '50cc mini', 'ss', 'mail carri', 'emi- trail', 'omnibus', 'mac', 'sweeper', 'p psd', 'mopped', 'oms', 'electric m', 'manpower s', 'access-a-r', 'gas moped', 'flatbed to', 'gmc ecom', 'revel', 'pickup tow', 'fire truvk', 'commer veh', 'petit cab', 'truck w/tr', 'mta van', 'fed ex tru', 'electronic', 'lsv', 'mta transi', 'ambalance', 'nyc fdny #', 'waste truc', 'e motorcyc', 'fdny- fire', 'electric c', '13', 'ford couri', 'bus (omnib', 'standing s', 'box car', 'ele motorc', 'ford f150', 'boom moped', 'transport', 'utv bobcat', 'fdny mecha', 'freight va', 'metro tran', 'lim', 'yale fork', 'razor scoo', 'passanger', 'govt p/u t', 'dot', 'van (trans', 'ford f-150', 'reg', 'tow-truck', 'ford ambul', 'fd ambulan', 'mooper', 'military v', 'subar', 'dot truck', 'commerial', 'mini vahn', 'dot vehicl', 'va', 'commericia', 'ele. unicy', 'ford trans', 'box van', 'revel mope', 'unkwown', 'progressiv', 'usps #6530', 'heavy truc', 'flywing mo', 'small bus', 'ford ff', 'traffic to', 'chevy', 'ambulanve', 'ladder', 'car/suv', 'amazon tru', 'horse draw', 'fdny utili', 'fdny vehic', 'yellow bus', 'toyot', 'pedal bike', 'golfcart', 'motorhome', 'one wheel', 'truck/bus']\n"
     ]
    }
   ],
   "source": [
    "# Get all unique values in 'VEHICLE TYPE CODE 1' column\n",
    "print(df_cleaned['VEHICLE TYPE CODE 1'].unique().tolist())"
   ]
  },
  {
   "cell_type": "code",
   "execution_count": 75,
   "id": "dd3b046c",
   "metadata": {},
   "outputs": [],
   "source": [
    "# Define a function that will place vehicle names into 10 different buckets\n",
    "def categorize_vehicle_1(vehicle_type):\n",
    "    if vehicle_type in ['ems/van','marked van','smart car', 'wh ford co','chevrolet','ford econo','yellow cab','van t','van/t','3 whe','cab', 'mobil','passenger vehicle', 'sport utility / station wagon', 'livery vehicle', 'petit cab', 'passanger', '4dsd', '4sedn', 'car/suv', 'toyot', 'mini vahn', 'subar', 'electric c', 'pass-', 'mta van', 'chevy', 'pas v', 'conve', 'chevr', 'chev', 'van (trans', 'ford trans', 'sm yw', 'van e','range', 'lmb', 'van (', 'yello', 'subur', 'e - b', 'navig', 'passe', 'sc', 'santa', 'te', 'nissa', 'van a', 'limou', 'coupe', 'van/b', 'highl', 'e-350', 'electric b', 'van w', 'passa', 'liver', 'rubbe', 'delie', 'miniv','sedan', 'station wagon/sport utility vehicle','taxi','van','convertible','carry all','3-door','sw/van','4 dr sedan','limo','2 dr sedan','mini van','ford van','sprinter v','passenger','passenger','pas','yellow cab','mercedes','toyota','12 passeng','sonata','jeep','van wh','cherv','4dsd','livery vehicle','limousine','rz','limou','sport utility / station wagon','coupe','4ds','yellow tax','station wagon/sport utility vehicle','convertible','minivan','car/suv','mini vahn','yellow tax','taxi', 'van','sonata','passanger','pass','suv','4 dr sedan','sedona','mini van','4sedn','passenger vehicle','2 dr sedan','pas v','pas (4dr s','sedan']:\n",
    "        return 'Passenger Vehicle'\n",
    "    elif vehicle_type in ['utility wh','fedex','usps 88716','postal van','ttailer','usps/govt','courier','moving van','delivery v','dot equipm', '18 wheeler','postal bus','utility.','delviery','usps #7530','wagon','pay loader','utili','dept van #','delvi','deliv','sanit','food', 'comme','santi','polic','parce', 'comm','fedx', 'small com veh(4 tires) ', 'large com veh(6 or more tires)', 'commerial', 'amazon tru', 'commer veh', 'fed ex tru', 'fleet', 'usps #6530', 'mail carri', 'commericia', 'pepsi deli', 'ups m', 'box car', 'ford couri', 'com v', 'scomm', 'dhl t', 'deiv', 'ecom', 'box h', 'scom', 'lcom', 'refr','comm.', 'couri', 'commu', 'u-hau', 'comer', 'ups t', 'usps2', 'frht', 'uspos', 'ems a', 'van c', 'fed e', 'e com', 'posto', 'heavy', 'cart', 'commm', 'c0mme', 'u.s. posta', 'renta', 'tram', 'mta u', 'del', 'usps # 487','utility', 'beverage truck','lunch wagon', 'uspcs','usps truck','com', 'chassis cab','open body','commercial', 'usps vehic', 'refrigerated van','stake or rack','work van','postal ser','uhal','cargo van','cement tru','delivery t','enclosed body - nonremovable enclosure','commercial','delv','limousine','tractor','trac','tractor tr','oml/omnibu','tow','bobcat','con ed tru','large com veh(6 or more tires)','verzion va','u-haul','u-haul min','commerial','boxtruck','food truck','postal veh','mailtruck','mail truck','ups t','freight tr','penske box','freightlin','freig','frieg','usps','usps 88716','usps truc,','postal van','usps # 487','usps2','u.s. posta','fedx','fedex box', 'fedex truc','delivery t','com delive','small com veh(4 tires) ','commericia','fedex','usps mail','usps van','usps  van', 'fed ex tru','delivery','usps truck','us postal','ups','box truck','box','mail truck','commerical','mail carri','usps #7530','amazon tru','usps','usps #6530','ups truck','postal tru','uspos','usps posta','usps small','postal ser','us mail tr','mail','post offic','usps vehic']:\n",
    "        return 'Commercial Vehicle'\n",
    "    elif vehicle_type in ['hertz ram','quality tr','ram promas','trk','mta truck','usps truc,','u haul tru','truck trai', 'ladder tru','truck van','dilevery t','food truck','flatbed','flat bed t', 'flatbed fr', 'flat  bed','f150xl pic','t880','tr-trailer','i-haul','trail', 'tow t','towe truck','uhual', 'picku','fuel','trc', 'garba','flat/','towtr','pick-','uhaul','f650','waste truc', 'ford f150', 'ford f-150', 'pickup tow', 'truck w/tr', 'dot truck', 'fd truck', 'dot vehicl', 'flatbed to', 'tow-truck', 'u-hal', 'dot', 'box van', 'heavy truc', 'freight va', 'e tow', 'gmc ecom', 'stake', 'flat-', 'p/u', 'towma','ice c', 'barri', 'movin', 'const', 'bucke', 'tktr', 'mac t', 'mac t', 'red t', 'dumpt', 'flatb', 'rd/s', 'broom', 'fd tr', 'sweep', 'cemen', 'icecr', 'tow-t', 'g sem', 'oil t', 'ladde', 'refri', 'sterl', 'tl tr', 'cabin', 'nt tr','tanker','box truck','flat bed', 'tow truck / wrecker','pick-up truck','tractor truck diesel','pkup', 'garbage tr','truck','tow truck','tractor truck gasoline','mack','pickup tru','pick up','mailtruck','pick up tr','freight','hopper','pickup','dump truck','semi','truck comm','mack truck','flatbed pi','pick-up tr','grumman ll','work truck','tk','sprinter w','g com','promaster','vanette','econoline','van truck','f550','f550 esu r','tlr','tlc','moving tru','dodge ram','ram','pick wh','pick-up','flat bed t','flat','garbage tr','fd truck','flat  bed','pickup with mounted camper','ford f150','ford picku','flatbed fr','flatb','beverage truck','pick-up truck','flat bed', 'tow truck / wrecker','heavy truc','garbage or refuse','flatbed pi','flatbed','ice cream','pick up tr','pick up','dumptruck','dumpster t','pickup tru','garbage','pick-up tr','utility tr','dump truck','pickup','dump']:\n",
    "        return 'Truck'\n",
    "    elif vehicle_type in ['subn - amb','g amb','nyc ems','leased amb','almbulance','abulance','fdny #226','firet truc','firtruck','gen  ambul','nyc fd','white ambu','emergency','esu rescue','ambul','amulance','firet','nyfd', 'ford ambul', 'ambalance', 'nyc fdny #', 'ambulanve', 'fd ambulan', 'police veh', 'fire truvk', 'fdny mecha', 'fdny- fire', 'fdny utili', 'fdny vehic', 'ems t', 'e.m.s', 'ems b', 'x amb', 'firer','rescu', 'e amb', 'emrgn', 'amabu', 'abula','ambulance', 'fdny ambul', 'fire truck', 'fire','nypd van','ambulace','fdny firet','ambulane', 'amb','ambu','ems bus','firetruck','fdny','nys ambula','ems','pumper','fdny fire','ambulence','fdny truck','fire','fire engine','fdny truck','city vehic','city of ne','fdny ambul','nypd','nypd tow t','ambulette','police veh','police rep','unmarked v','ems t','firet truc','e.m.s','polic','nypd van','fdny','nyc fd','nycha van','fdny ems v','ems a','firet','nyc ems','fdny fire','ambalance','ford ambul','amubulance','ambulane', 'amb','nyc fdny #','almbulance','fdny firet','firetruck','ambulance','ems ambula','nyc fire t','fdny lader','fdny ladde','fdny #226','white ambu','fdny ems','fdny utili','fdny vehic','gen  ambul','nyc ambula','fd ambulan','ems fdny b','fdny engine','ems truck','emergency','emt ambula','ems','ems bus','amulance','ambukance','firtruck','fire truvk','ambulanve','ambulence','ambulace','ambu','abulance','nys ambula','fire truck']:\n",
    "        return 'Emergency Vehicle'\n",
    "    elif vehicle_type in ['schoo','yellow bus', 'omnibus', 'bus (omnib', 'small bus', 'truck/bus', 'coach', 'mta transi', 'metro tran', 'mta v', 'marked rmp','trans', 'omnib', '12 pa', 'chart', 'nyc bus', 'omni', 'hino', 'livery bus','bus', 'school bus', 'shuttle bu','12 passage','mta bus','shuttle bu','trolley ri','livery bus','nyc bus','small bus','truck/bus','small bus','bus (omnib','schoolbus','mini schoo','school  bu','yellow bus','school bus','school bu','mini bus', 'mta bus','bus']:\n",
    "        return 'Bus'\n",
    "    elif vehicle_type in ['spark150 s','ebike','bicycle','e bike','elec. unic','e-bik','push scoot','e-sco','e bik','scoot','vespa','mopped', 'pedal bike', 'revel mope', 'ele motorc', 'gas moped', 'razor scoo', 'ele. unicy', 'e- bi', 'e motorcyc', 'electric m', '2 whe', 'boom moped', '50cc mini', 'flywing mo', '2 wheel sc','e sco', 'motor', 'moter', 'bicyc', 'mc', 'e-mot', 'mcy', 'mo pa', 'dirtb', 'mtr s', 'winne', 'mcy b','motorscooter','bike','e-bike', 'motorcycle', 'e-scooter','moped', 'scooter', 'motorbike', 'minicycle', 'motor scoo','e scooter','50cc scoot','kick scoot','electric s','dirt bike','minibike','escooter s','motorized','gas scoote','crf carria','revel scoo','moped','ebike','gas mo ped','e bike','bicycle','scoot','razor150 m','motorcycle','yamah','red moped','e motorcyc','bicyc','mopd','boom moped','gas mo ped','yamaha','e bike w p', 'e-scooter','minicycle','motorbike','scooter ga','ele motorc','gas moped','electric b','e bike uni','gas scoote','scooter','motor scoo','mopped','dirt bike','razor scoo', 'e-bik','pedal bike','motorscoot','electric s','minibike','escooter s','50cc scoot','kick scoot','e scooter','bike', 'e-bike','motorscooter']:\n",
    "        return 'Two-Wheeled Vehicle'\n",
    "    elif vehicle_type in ['skid loade','bulldozer','forlift','catapillar','drill rig','john deere','back hoe','mechanical','cat','escavator','tract','fork','excav','yale fork', 'bkhoe', 'hi-lo','skid-', 'kubot', 'bulld', 'trlr', 'track exca', 'concr', 'dumps', 'cat p', 'boom', 'rmp', 'cherr', 'bobca','dump','garbage or refuse', 'lift boom','cater','concrete mixer', 'excavator','fork lift','forklift','asphalt ro','power shov','cat forkli','fork','boom lift','stak','bucket tru','power ladd','trailler/fl','backhoe re','well driller','backhoe lo','fork lift','crane boom','forkl','constructi','cat forkli','forlift','crane','concrete mixer','bulldozer','forklift','cement tru'] :\n",
    "        return 'Construction Vehicle'\n",
    "    elif vehicle_type in ['trailee','camper tra','rv/van','motorhome', 'rv/tr', 'emi- trail', 'revel','sea', 'camp', 'r/v c', 'r/v','rv','motorized home','house on w','hwh','r/v','rv','r/v c','rv/van','van camper','motorhome','camper van','motor home','jet-ski']:\n",
    "        return 'Recreational Vehicle'\n",
    "    elif vehicle_type in ['special co','sanitaion','sanitaton','lawnmower','e-skateboa','go kart','horse','hrse','golf','tanke','golfcart', 'military v', 'utv bobcat', 'sweeper', 'govt p/u t', 'gokar', 'govt.', 'horse draw', 'farm', 'military', 'hosre', 'ladder', 'atv p', 'servi', 'trac.', 'swepe', 'wag', 'traffic to','nys a', 'dirt', 'segwa', 'nycha', 'snow', 'grain', 'gover', 'nyc d', 'track', 'fd fi', 'spc', 'light', 'tower', 'utv', 'nyc', 'loade', 'cat 9', 'fork-', 'trlr plt,', 'spec', 'seagr', 'cargo', 'nyc a', 'dot r', 'veriz', 'farm vehicle', 'carri', 'dp', 'gov v', 'nyc f', 'nycta','trailer','semi trail', 'flat rack', 'armored truck', 'street swe','e bike uni','golf cart','util','bulk agriculture','golf car','livestock rack','road sweep','van/truck','street cle','lift','skywatch','carriage','pedicab','snow plow','horse trai','utility ve','utility tr','golfcart','golf cart','armored truck','golf car','locomotive','skateboard','sanitation','horse carr','food cart','government','govt','principle']:\n",
    "        return 'Specialized or Miscellaneous Vehicle'\n",
    "    else:\n",
    "        return 'Unknown/Other'"
   ]
  },
  {
   "cell_type": "code",
   "execution_count": 76,
   "id": "df7c6c26",
   "metadata": {},
   "outputs": [],
   "source": [
    "# Apply the function to each value in 'vehicle_type 1' column\n",
    "df_cleaned['VEHICLE TYPE CODE 1'] = df_cleaned['VEHICLE TYPE CODE 1'].apply(categorize_vehicle_1)"
   ]
  },
  {
   "cell_type": "code",
   "execution_count": 77,
   "id": "08900509",
   "metadata": {},
   "outputs": [
    {
     "name": "stdout",
     "output_type": "stream",
     "text": [
      "['Passenger Vehicle', 'Truck', 'Bus', 'Two-Wheeled Vehicle', 'Emergency Vehicle', 'Commercial Vehicle', 'Unknown/Other', 'Specialized or Miscellaneous Vehicle', 'Construction Vehicle', 'Recreational Vehicle']\n"
     ]
    }
   ],
   "source": [
    "# Make sure all vehicle types have been categorized in 'VEHICLE TYPE CODE 1'\n",
    "print(df_cleaned['VEHICLE TYPE CODE 1'].unique().tolist())"
   ]
  },
  {
   "cell_type": "code",
   "execution_count": 78,
   "id": "fef3d78c",
   "metadata": {},
   "outputs": [
    {
     "name": "stdout",
     "output_type": "stream",
     "text": [
      "Passenger Vehicle                       1566137\n",
      "Truck                                     57627\n",
      "Commercial Vehicle                        48898\n",
      "Unknown/Other                             44175\n",
      "Two-Wheeled Vehicle                       33302\n",
      "Bus                                       33114\n",
      "Emergency Vehicle                          8966\n",
      "Specialized or Miscellaneous Vehicle       1219\n",
      "Construction Vehicle                        895\n",
      "Recreational Vehicle                         97\n",
      "Name: VEHICLE TYPE CODE 1, dtype: int64\n"
     ]
    }
   ],
   "source": [
    "pd.set_option('display.max_rows', None)\n",
    "\n",
    "# Print the value counts for the cleaned 'VEHICLE TYPE CODE 1' column\n",
    "value_counts_1 = df_cleaned['VEHICLE TYPE CODE 1'].value_counts()\n",
    "print(value_counts_1)"
   ]
  },
  {
   "cell_type": "code",
   "execution_count": 79,
   "id": "da042b13",
   "metadata": {},
   "outputs": [
    {
     "name": "stdout",
     "output_type": "stream",
     "text": [
      "['sedan', nan, 'pick-up truck', 'station wagon/sport utility vehicle', 'bike', 'e-scooter', 'e-bike', 'ambulance', 'moped', 'bus', 'motorcycle', 'taxi', 'box van', '4 dr sedan', 'tanker', 'box truck', 'dl', 'refrigerated van', 'tow truck / wrecker', 'tractor truck diesel', 'garbage or refuse', 'chassis cab', 'flat rack', 'van', 'pk', 'dump', 'tractor truck gasoline', 'motorbike', 'concrete mixer', 'multi-wheeled vehicle', 'fire truck', 'hopper', 'fdny truck', 'van/truck', 'pedicab', 'flat bed', 'motorscooter', 'fdny engin', 'carry all', 'convertible', 'dirt bike', 'firetruck', 'util truck', 'armored truck', 'box', 'nyc fire t', 'van camper', 'lift boom', 'scooter', 'wheelchair', 'tow truck', 'stake or rack', 'food cart', '999', 'unk', 'beverage truck', 'power shov', 'work van', 'nice bus', 'trailer', '3-door', 'open body', 'mta bus', 'trk', 'com', 'forklift', 'garbage tr', 'bmw', 'snow plow', 'school bus', 'escootersi', 'bulk agriculture', 'mower', 'ez go', 'wh', 'usps', 'minibike', 'unknown', 'refg', 'dirtbike', 'ambu', 'fdny firet', 'escooter s', 'self insur', 'gov vehicl', 'fire', 'ambulcance', 'fdny rig', 'mopad', 'fork lift', 'limo', 'skateboard', 'food truck', 'sanitation', 'motor home', 'pick up', 'courier va', 'mack', 'mta nyc bu', 'delivery t', 'tank', 'street swe', 'comm', 'e bike', 'subn', 'pickup tru', 'util', 'mtabus', 'sprinter', 'backhoe lo', 'unkn', 'ltrl', 'skatboard', 'toolcat', 'horse carr', 'revel scoo', 'delv', 'crane truc', 'unknow', 'other', 'uhaul truc', 'suburban', 'nycfiredep', 'ups', 'commercial', 'minicycle', 'vanette', 'cat payloa', 'courier', 'city vehic', \"revel mo'e\", 'freight', 'garage', 'postal tru', 'ice cream', 'fdny ambul', 'blue chevy', 'dot vehicl', 'escavater', 'co', 'excavator', 'electric s', 'fdny ems', 'lunch wagon', 'fdny ambu', 'm21', 'fire appar', 'fdny fire', 'special pu', 'utility tr', 'bay crane', 'pallet', 'enclosed body - nonremovable enclosure', 'motorscoot', 'mini', 'fdny', 'gas bicycl', 'skid loade', 'freig', 'flat', 'conedison', 'pedestrian', 'truck ladd', 'tractor tr', 'g amb', 'truck', 'fire turck', 'moped clas', 'uhaul van', 'orange jlg', 'nypd van', 'motorhome', 'van box tr', 'fdny ladde', 'limit use', 'amb', 'food deliv', 'stake truc', 'scooter ga', 'f550', 'boom lift/', 'pc', 'priv ambul', 'e skateboa', 'tractor', 'ec3', 'unk female', 'usps truck', 'scooter no', 'tow4', 'dump gr', 'van truck', 'golf cart', 'flatbed', '0', 'pickup', 'dump truck', 'unkown', 'revel', 'rv', 'pickup with mounted camper', 'road sweep', 'ambiance', 'ups van', 'mail truck', 'ems truck', 'pas', 'rmp', 'utility', 'ambulamce', 'aerial lif', 'motor scoo', 'dollar van', 'unknown ve', 'standing s', 'glass rack', 'electric m', 'chevy carg', 'bulldozer', 'uknown', 'fire depar', 'mta truck', 'cargo trai', 'mopped', 'fire engin', 'gas moped', 'gmc delive', 'x trailer', 'cargo', 'fedex truc', 'constructi', 'gas scoote', 'marked van', 'c1', '3 wheel sc', 'u haul', 'government', 'tow', 'skate boar', 'semi trail', 'delivery', 'spc', 'mo ped', 'fd truck', 'moped scoo', '2dcp', 'tl', 'wheel load', 'fed ex van', 'trl', 'pick-up tr', 'ford trans', 'suv', 'delivery w', 'oil tanker', 'gas mo-ped', 'pump', 'semi-trail', 'pick up tr', '18 wheel', 'left scene', 'short scho', 'stak', 'cargo van', 'bobcat sno', 'white', 'nyc sanita', 'utility ca', 'gator', 'boom lift', 'pedi cab', 'mopd', 'komatsu lo', 'camper tra', '50 cc moto', 'mopet', 'sprinter v', 'lateral tr', 'detached t', 'hoverboard', 'front end', 'transit mt', 'emt truck', 'revel mope', 'back hoe', 'embulance', 'back ho', 'trailer tr', 'mcr', 'trailer no', 'commerical', 'swingloade', 'moped bike', 'fedex box', 'usps mail', 'boxtruck', 'utility ve', 'contructio', 'u-haul tru', 'cart', 'trailor', 'tk', 't350hd', 'cherry pic', 'dsny truck', 'rd/s', 'razor scoo', 'e-unicycle', 'mopoed', 'motorizeds', 'uhaulwtowd', 'unicycle', 'fedex van', 'e com', '2 dr sedan', 'na', 'mta work t', 'pick', 'train cart', 'glben', 'ems', 'cat', 'towtruck', 'dart bike', 'comm truck', 'motorized home', 'e scooter', 'u-haul', 'yellow bus', 'stand up s', 'psd', 'us postal', 'toolcat fo', 'b55 excava', 'mop pad', 'usps posta', 'charter bu', 'bull dozer', 'backhoe', 'red vehicl', 'citibike', 'autotrlr t', 'lift', 'trac', 'nyc fire d', 'nyc truck', 'uhaul', 'n/a', 'pass', 'chevrolet', 'ecoline va', 'fdny picku', 'new flyer', 'mobility s', 'gas bike', 'department', '325flcr', 'refriger t', 'flat bed t', 'nys ambula', 'push scoot', 'ford ambul', 'slingshoot', 'sweeper', 'nyc fdny', 'rz', 'fdny vehic', 'e bike w p', 'cat caterp', 'u haul mov', 'ambulette', 'motor dirt', 'util.', 'caterpilla', 'uni e-bike', 'u haul tru', 'plow', 'pumper', 'basic psd', 'for van', 'industrial', 'collection', 'go kart', 'mta bus  4', 'roadroller', 'motored sc', 'transit', 'bucket tru', 'enclosed body - removable enclosure', 'rental tru', 'school van', 'cadet', 'bobcat', 'golf kart', 'ups truck', 'nyc transi', 'fed ex', 'const equi', 'snow plowe', 'cmix', 'freight tr', 'subn tn', 'uspcs truc', 'command po', 'motor', 'plow  truc', 'plow truck', 'usps self', 'kenwo', 'police veh', 'e- motor b', 'rented boo', 'del', 'ambulance`', 'workh util', 'pickup tow', 'postal ser', 'passenger', 'wheel barr', 'ny ems', 'uhaul box', 'e-sooter', 'comm food', 'postal veh', 'truck cran', 'car traile', 'street cle', 'amazon tru', 'ut', 'esu rep', 'usps van', 'econoline', 'i1', 'us govt ve', 'mailtruck', 'left the s', 'escavator', 'fleet', 'truck trai', 'moped elec', 'transport', 'folk lift', 'mini van', 'tilt tande', 'well driller', 'lawn mower', 'nyc acs va', 'horse', 'escooter', 'frieghtlin', '4dsd', 'ambulence', 'e-skateboa', 'internatio', 'haul for h', 'vehicle 2', 'freightlin', 'palfinger', 'ukn', 'john deere', 'nyc bus', 'pick truck', 'bob cat', 'access a r', 'crane', 'rds', 'scoot', 'jetski', 'van/transi', 'lcom', 'hearse', 'amazon spr', 'p/sh', 'glp050vxev', 'tree cutte', 'delivery v', 'toyota', 't630 forkl', 'escovator', 'frt', 'cargo truc', 'itas', 'glnen', 'historical', 'light trai', 'flatbed tr', '18 weeler', 'omt', 'armored tr', 'tract', 'forklift t', 'short bus', 'buldozer', 'pick rd', 'blu bus', 'nyc dot', 'pumper tru', '600aj', 'spinter va', 'dot truck', 'tank wh', 'livery omn', 'city mta b', 'comme', 'hino tank', 'postal car', 'scotter', 'city of ne', 'vendor cha', 'gmc', 'mobile foo', 'city', 'e-sco', '2 hor', 'trail', '00000', 'rd bldng m', 'firet', 'omnibus', 'forkl', 'schoolbus', 'gas t', 'schoo', 'ebike', 'unkno', 'e-bik', 'boom crane', 'ambul', 'pedic', 'pallet jac', 'road', 'mta b', 'skidsteerl', 'ladder tru', 'man l', 'chevy', 'emt', 'skid', '11 pa', 'livestock rack', 'brown', 'sciss', 'box t', 'ems a', 'fork', 'tow t', 'trim', 'sweep', 'feder', 'power', 'couri', 'const', 'e-ska', 'wheel', 'econo', 'flatb', 'spec-', 'ladde', 'mobil', 'dumps', 'excav', 'picku', 'liebh', 'util wh', 'razor', 'u hau', 'mo-pe', 'dirt', 'cemen', 'backh', 'mail', 'van/t', 'us po', '52? t', 'skate', 'utili', 'van a', 'fd tr', 'art m', 'e sco', 'garba', 'sprin', 'boom', 'tra/r', 'movin', 'ford', 'work', 'bulld', 'e350', 'trans', 'stree', 'e250', 'bump', 'train', 'depar', 'aspha', 'deliv', 'detac', 'rep', 'self-', 'yello', 'dirtb', 'alumi', 'engin', 'john', 'churc', 'bobca', 'jlg l', 'cat32', 'black', 'trlr', 'elect', 'e bik', 'van t', 'oms', 'tower', 'bucke', 'man b', 'sanit', 'grain', 'ram', 'nyfd', 'dp', 'wagon', 'hand', 'van c', 'bob c', 'c7c', 'fed e', 'uspos', 'towin', 'post', 'mtriz', 'se', 'food', 'front', 'inter', 'cater', 'astro', 'back', 'enclo', 'semi-', 'armor', 'mopen', 'ice c', 'dsny', 'tr', 'vespa', 'crwzk', 'u-tru', 't650', 'hi-lo', 'refri', 'safet', 'trt', 'vms t', 'sw', 'johnd', 'nv150', 'laund', 'waste', 'swt', 'tkp', 'self', 'nyc f', 'ems b', 'apurp', 'scava', 'conv', 'car c', 'conta', 'case', 'cont', 'track', '72000', 'oil t', 'small', 'posta', 'unnko', 'd', 'bed', 'u-hau', 'omr', 's/sp', 'jeep', 'semi', 'unkow', 'pch', 'oml/', 'd1', 'e', 'g com', \"gov't\", 'mecha', 'compa', 'uspst', 'fre t', 'dig-i', 'electronic', 'anbul', 'us ma', 'axo', 'dunba', 'transit va', 'limou', 'e/bik', 'frieg', 'subn/', 'nd', 'comer', 'towtr', 'milli', 'ems h', 'bobby', 'tour', 'com.', 'utll', 'epo', 'fedex', 'rescu', 'porta', 'smart', '18 wh', 'objec', 'uhual', 'chevr', 'subur', 'acces', 'wc', 'hotdo', 'utility va', 'nypd', 'r/v', 'ec2', '(ceme', 'b5-44', 'mot s', 'lp', 'uber', 'fd la', 'com t', 'hino', 'sc', 'veh l', 'fd ny', 'gas s', 'trash', 'golf', 'spc p', 'unk,', '2 doo', 'pick-', 'shcoo', 'gover', 'red t', 'minivan', 'carri', '1', 'whbl', 'nyc a', '994', 'boat', 'hwy c', 'g tow', 'ryder', 'light', '2ton', 'tl tr', 'hook', 'rmp v', 'trial', 'van f', 'snowmobile', 'mta', 'passe', '00', 'jlg b', 'cat 3', 'tlr', 'gray', 'campe', 'vant', 'jcb40', 'pu', 'booml', 'gmc v', 'dept', '013', 'e pas', 'bs', 'amula', 'limo/', 'new y', 'ups t', 'tandu', 'blue', 'moped/scoo', 'nissa', 'dumpster', 'cab', 'ud', 'scaff', 'red,', 'utlit', 'cat 4', 'humme', 'dot #', 'ip', 'delv.', 'g omr', 'trlpm', 'fortl', 'appor', 'bus m', 'buss', 'u.s p', 'tanke', 'sbn', 'ap', 'es', 'light towe', 'wanc', 'elec', 'clean', 'yll p', 'none', 'uliti', 'impal', 'dumpt', 'polic', 'liver', 'nyc s', 'peter', 'loade', 'foot', 'tr/c', 'van h', 'house', 'del t', 'log', 'tow r', 'wesco', 'u.s.p', 'expre', 'drone', 'all-terrain vehicle', 'fllet', 'unk t', 'genie', 'junst', 'ladd', 'mac 1', 'dep v', 'oml', '000', 'dlev', 'unkwn', 'broom', 'g pas', 'accee', 'intl', '4ds', 'sterl', 'tuck', 'sen', 'big r', 'speac', 'llv', 'trai', 'mp', 'scl', 'foor', 'miniv', 'mta t', 'pz', 'subn-', 'uk', 'push', 'utilt', 'dlvr', 'sanat', 'ariel', 'naa', 'left', 'snow', '12 fe', 'tt', 'pas v', 'heil', 'not i', 'com/a', 'm/a', 'trc', 'off r', 'vms sign', '3 whe', 'navig', 'pish', '4dr', 'engi', '.', '3-whe', 'f350', 'club', 'rolle', 'metal', 'nyc m', '2003', \"12' o\", 'nyc b', 'am/tr', '12 pa', 'van u', 'freih', 'luv', 'sport utility / station wagon', 'boxtr', 'chart', 'truc', 'paylo', 'vend', 'tf', 'offic', 'eletr', 'lull', '4d', 'unk.', 'chev', 'gov v', 'hoe-l', 'trc m', 'jlg m', 'genui', 'pumpe', 'lumbe', 'tilla', 'mac f', 'omni', 'uhal', 'budge', 'scho', 'salt', 'govt', 'silve', 'db', 'refg/', 'palle', 'delie', 'hilow', '2015', 'trcic', 'scom', 'passenger vehicle', 'srf', 'omc', 'qbe i', 'e1', 'lawn', 'dumpe', 'me/be', 'gr hs', 'doosk', 'isuzu', 'vas', '430', 'p/u', 'car t', 'wg', 'rolli', 'qmz', 'ynk', 'sem', 'vehic', 'workh', 'ecoli', 'cont-', '8x20', 'hi lo', 'quad', 'box m', 'van/', 'ecom', 'bicycle', 'vam', 'dei v', 'vn', 'refrg', 'fltrl', 'pkup', 'nyc g', 'fed', 'roro', 'yw', 'e amb', 'n?a', 'unk l', 'g  co', 'us go', 'refq', 'small com veh(4 tires) ', 'farm vehicle', 'mac t', 'deagr', 'car', 'unkl', 'usps#', 'parke', 'uni', 'unlno', 'sub', 'chvey', 'unk/l', 'dlr', 'ref g', 'omnib', 'unknw', 'nyc-s', '2dr', 'renta', 'elecr', 'utyli', 'kw tr', 'kme', 'gene', 'escoo', 'mi/fu', 'livery vehicle', 'large com veh(6 or more tires)', 'lsa', 'p psd', 'f', 'h1', 'dot tow tr', 'fdny ferra', 'payloader', 'f1', 'house on w', '16m', 'straight t', 'johndeere', 'commerial', 'beyond sco', 'food vende', 'e- scooter', 'dumpster t', 'school  bu', 'mcy', 'm/c', 'fd apparat', 'hyster for', 'lawnmower', 'dsny sweep', 'gov', 'scooter bi', 'freighntli', 'ic', 'x', 'special co', 'usps vehic', 'white box', 'fd ladder', 'moped gas', 'fd engine', 'arcimoto', 'distributo', 'ford ec2', 'jj150t-4a', 'mechanical', 'amazon van', 'uhaul trai', 'fdny bus', '2ydswheell', '12 passeng', 'motorized', 'e wheelcha', 'cat escaba', 'white work', 'usps box t', 'maintenanc', 'mta esu ve', 'nyc ambula', 'push cart', 'c', '17', 'gth-1056', 'foglift', 'rear end', 'scooter/mo', 'tracktor t', 'ambluance', 'scooter si', 'p/sh yw', 'subn/ambul', 'bobcat/for', 'frht-spr', 'carrier', 'a bulance', 'ne/fl', 'moto-scoot', 'box car', 'electrict', 'fd ambulan', 'nypd tow t', 'c3', 'ford two t', 'frht vehic', 'comm van', 'fd pickup', 'mta bus 40', 'rolloff', 'fdny super', 'metrotech', 'gspc', 'semitraile', 'gas pwr sc', 'pickup sl', 'fdny 331 k', 'white van', 'unkowm', 'x com', 'fdny sp200', 'dot safety', 'seagrave t', 'toyot', '787', 'scooter (g', 'u haul tra', 'ems ambula', 'usps post', 'postoffice', 'unknown ca', 'tank truck', 'mc', 'moving van', 'abmu', 'siting mop', 'box mail t', 'jlg ultra', 'l1', 'caravan', 'electricun', 'a', 'cement mix', 'c45 boc tr', 'freight li', 'police van', 'ram comm.', 'nycha fork', 'ltr', 'camper', 'trailer fl', 'workcart', 'derelict v', 'c40', 'white ford', 'chevy van', 'vendor foo', 'motor. sco', 'private am', '4 wheeler', 'freight va', 'telehandle', 'flywing', 'white dodg', 'red', 'acur', 'vehicle tr', 'food trail', 'comm vehic']\n"
     ]
    }
   ],
   "source": [
    "# Now see all unique values in 'VEHICLE TYPE CODE 2'\n",
    "print(df_cleaned['VEHICLE TYPE CODE 2'].unique().tolist())"
   ]
  },
  {
   "cell_type": "code",
   "execution_count": 80,
   "id": "8a152bd4",
   "metadata": {},
   "outputs": [],
   "source": [
    "# Now we will define a similar function that will group vehicle names into buckets in 'VEHICLE TYPE CODE 2'.\n",
    "# But we don't want to categorize anything as Unknown/Other yet\n",
    "def categorize_vehicle_2(vehicle_type):\n",
    "    if vehicle_type in ['ems/van','marked van','smart car', 'wh ford co','chevrolet','ford econo','yellow cab','van t','van/t','3 whe','cab', 'mobil','passenger vehicle', 'sport utility / station wagon', 'livery vehicle', 'petit cab', 'passanger', '4dsd', '4sedn', 'car/suv', 'toyot', 'mini vahn', 'subar', 'electric c', 'pass-', 'mta van', 'chevy', 'pas v', 'conve', 'chevr', 'chev', 'van (trans', 'ford trans', 'sm yw', 'van e','range', 'lmb', 'van (', 'yello', 'subur', 'e - b', 'navig', 'passe', 'sc', 'santa', 'te', 'nissa', 'van a', 'limou', 'coupe', 'van/b', 'highl', 'e-350', 'electric b', 'van w', 'passa', 'liver', 'rubbe', 'delie', 'miniv','sedan', 'station wagon/sport utility vehicle','taxi','van','convertible','carry all','3-door','sw/van','4 dr sedan','limo','2 dr sedan','mini van','ford van','sprinter v','passenger','passenger','pas','yellow cab','mercedes','toyota','12 passeng','sonata','jeep','van wh','cherv','4dsd','livery vehicle','limousine','rz','limou','sport utility / station wagon','coupe','4ds','yellow tax','station wagon/sport utility vehicle','convertible','minivan','car/suv','mini vahn','yellow tax','taxi', 'van','sonata','passanger','pass','suv','4 dr sedan','sedona','mini van','4sedn','passenger vehicle','2 dr sedan','pas v','pas (4dr s','sedan']:\n",
    "        return 'Passenger Vehicle'\n",
    "    elif vehicle_type in ['utility wh','fedex','usps 88716','postal van','ttailer','usps/govt','courier','moving van','delivery v','dot equipm', '18 wheeler','postal bus','utility.','delviery','usps #7530','wagon','pay loader','utili','dept van #','delvi','deliv','sanit','food', 'comme','santi','polic','parce', 'comm','fedx', 'small com veh(4 tires) ', 'large com veh(6 or more tires)', 'commerial', 'amazon tru', 'commer veh', 'fed ex tru', 'fleet', 'usps #6530', 'mail carri', 'commericia', 'pepsi deli', 'ups m', 'box car', 'ford couri', 'com v', 'scomm', 'dhl t', 'deiv', 'ecom', 'box h', 'scom', 'lcom', 'refr','comm.', 'couri', 'commu', 'u-hau', 'comer', 'ups t', 'usps2', 'frht', 'uspos', 'ems a', 'van c', 'fed e', 'e com', 'posto', 'heavy', 'cart', 'commm', 'c0mme', 'u.s. posta', 'renta', 'tram', 'mta u', 'del', 'usps # 487','utility', 'beverage truck','lunch wagon', 'uspcs','usps truck','com', 'chassis cab','open body','commercial', 'usps vehic', 'refrigerated van','stake or rack','work van','postal ser','uhal','cargo van','cement tru','delivery t','enclosed body - nonremovable enclosure','commercial','delv','limousine','tractor','trac','tractor tr','oml/omnibu','tow','bobcat','con ed tru','large com veh(6 or more tires)','verzion va','u-haul','u-haul min','commerial','boxtruck','food truck','postal veh','mailtruck','mail truck','ups t','freight tr','penske box','freightlin','freig','frieg','usps','usps 88716','usps truc,','postal van','usps # 487','usps2','u.s. posta','fedx','fedex box', 'fedex truc','delivery t','com delive','small com veh(4 tires) ','commericia','fedex','usps mail','usps van','usps  van', 'fed ex tru','delivery','usps truck','us postal','ups','box truck','box','mail truck','commerical','mail carri','usps #7530','amazon tru','usps','usps #6530','ups truck','postal tru','uspos','usps posta','usps small','postal ser','us mail tr','mail','post offic','usps vehic']:\n",
    "        return 'Commercial Vehicle'\n",
    "    elif vehicle_type in ['hertz ram','quality tr','ram promas','trk','mta truck','usps truc,','u haul tru','truck trai', 'ladder tru','truck van','dilevery t','food truck','flatbed','flat bed t', 'flatbed fr', 'flat  bed','f150xl pic','t880','tr-trailer','i-haul','trail', 'tow t','towe truck','uhual', 'picku','fuel','trc', 'garba','flat/','towtr','pick-','uhaul','f650','waste truc', 'ford f150', 'ford f-150', 'pickup tow', 'truck w/tr', 'dot truck', 'fd truck', 'dot vehicl', 'flatbed to', 'tow-truck', 'u-hal', 'dot', 'box van', 'heavy truc', 'freight va', 'e tow', 'gmc ecom', 'stake', 'flat-', 'p/u', 'towma','ice c', 'barri', 'movin', 'const', 'bucke', 'tktr', 'mac t', 'mac t', 'red t', 'dumpt', 'flatb', 'rd/s', 'broom', 'fd tr', 'sweep', 'cemen', 'icecr', 'tow-t', 'g sem', 'oil t', 'ladde', 'refri', 'sterl', 'tl tr', 'cabin', 'nt tr','tanker','box truck','flat bed', 'tow truck / wrecker','pick-up truck','tractor truck diesel','pkup', 'garbage tr','truck','tow truck','tractor truck gasoline','mack','pickup tru','pick up','mailtruck','pick up tr','freight','hopper','pickup','dump truck','semi','truck comm','mack truck','flatbed pi','pick-up tr','grumman ll','work truck','tk','sprinter w','g com','promaster','vanette','econoline','van truck','f550','f550 esu r','tlr','tlc','moving tru','dodge ram','ram','pick wh','pick-up','flat bed t','flat','garbage tr','fd truck','flat  bed','pickup with mounted camper','ford f150','ford picku','flatbed fr','flatb','beverage truck','pick-up truck','flat bed', 'tow truck / wrecker','heavy truc','garbage or refuse','flatbed pi','flatbed','ice cream','pick up tr','pick up','dumptruck','dumpster t','pickup tru','garbage','pick-up tr','utility tr','dump truck','pickup','dump']:\n",
    "        return 'Truck'\n",
    "    elif vehicle_type in ['subn - amb','g amb','nyc ems','leased amb','almbulance','abulance','fdny #226','firet truc','firtruck','gen  ambul','nyc fd','white ambu','emergency','esu rescue','ambul','amulance','firet','nyfd', 'ford ambul', 'ambalance', 'nyc fdny #', 'ambulanve', 'fd ambulan', 'police veh', 'fire truvk', 'fdny mecha', 'fdny- fire', 'fdny utili', 'fdny vehic', 'ems t', 'e.m.s', 'ems b', 'x amb', 'firer','rescu', 'e amb', 'emrgn', 'amabu', 'abula','ambulance', 'fdny ambul', 'fire truck', 'fire','nypd van','ambulace','fdny firet','ambulane', 'amb','ambu','ems bus','firetruck','fdny','nys ambula','ems','pumper','fdny fire','ambulence','fdny truck','fire','fire engine','fdny truck','city vehic','city of ne','fdny ambul','nypd','nypd tow t','ambulette','police veh','police rep','unmarked v','ems t','firet truc','e.m.s','polic','nypd van','fdny','nyc fd','nycha van','fdny ems v','ems a','firet','nyc ems','fdny fire','ambalance','ford ambul','amubulance','ambulane', 'amb','nyc fdny #','almbulance','fdny firet','firetruck','ambulance','ems ambula','nyc fire t','fdny lader','fdny ladde','fdny #226','white ambu','fdny ems','fdny utili','fdny vehic','gen  ambul','nyc ambula','fd ambulan','ems fdny b','fdny engine','ems truck','emergency','emt ambula','ems','ems bus','amulance','ambukance','firtruck','fire truvk','ambulanve','ambulence','ambulace','ambu','abulance','nys ambula','fire truck']:\n",
    "        return 'Emergency Vehicle'\n",
    "    elif vehicle_type in ['schoo','yellow bus', 'omnibus', 'bus (omnib', 'small bus', 'truck/bus', 'coach', 'mta transi', 'metro tran', 'mta v', 'marked rmp','trans', 'omnib', '12 pa', 'chart', 'nyc bus', 'omni', 'hino', 'livery bus','bus', 'school bus', 'shuttle bu','12 passage','mta bus','shuttle bu','trolley ri','livery bus','nyc bus','small bus','truck/bus','small bus','bus (omnib','schoolbus','mini schoo','school  bu','yellow bus','school bus','school bu','mini bus', 'mta bus','bus']:\n",
    "        return 'Bus'\n",
    "    elif vehicle_type in ['spark150 s','ebike','bicycle','e bike','elec. unic','e-bik','push scoot','e-sco','e bik','scoot','vespa','mopped', 'pedal bike', 'revel mope', 'ele motorc', 'gas moped', 'razor scoo', 'ele. unicy', 'e- bi', 'e motorcyc', 'electric m', '2 whe', 'boom moped', '50cc mini', 'flywing mo', '2 wheel sc','e sco', 'motor', 'moter', 'bicyc', 'mc', 'e-mot', 'mcy', 'mo pa', 'dirtb', 'mtr s', 'winne', 'mcy b','motorscooter','bike','e-bike', 'motorcycle', 'e-scooter','moped', 'scooter', 'motorbike', 'minicycle', 'motor scoo','e scooter','50cc scoot','kick scoot','electric s','dirt bike','minibike','escooter s','motorized','gas scoote','crf carria','revel scoo','moped','ebike','gas mo ped','e bike','bicycle','scoot','razor150 m','motorcycle','yamah','red moped','e motorcyc','bicyc','mopd','boom moped','gas mo ped','yamaha','e bike w p', 'e-scooter','minicycle','motorbike','scooter ga','ele motorc','gas moped','electric b','e bike uni','gas scoote','scooter','motor scoo','mopped','dirt bike','razor scoo', 'e-bik','pedal bike','motorscoot','electric s','minibike','escooter s','50cc scoot','kick scoot','e scooter','bike', 'e-bike','motorscooter']:\n",
    "        return 'Two-Wheeled Vehicle'\n",
    "    elif vehicle_type in ['skid loade','bulldozer','forlift','catapillar','drill rig','john deere','back hoe','mechanical','cat','escavator','tract','fork','excav','yale fork', 'bkhoe', 'hi-lo','skid-', 'kubot', 'bulld', 'trlr', 'track exca', 'concr', 'dumps', 'cat p', 'boom', 'rmp', 'cherr', 'bobca','dump','garbage or refuse', 'lift boom','cater','concrete mixer', 'excavator','fork lift','forklift','asphalt ro','power shov','cat forkli','fork','boom lift','stak','bucket tru','power ladd','trailler/fl','backhoe re','well driller','backhoe lo','fork lift','crane boom','forkl','constructi','cat forkli','forlift','crane','concrete mixer','bulldozer','forklift','cement tru'] :\n",
    "        return 'Construction Vehicle'\n",
    "    elif vehicle_type in ['trailee','camper tra','rv/van','motorhome', 'rv/tr', 'emi- trail', 'revel','sea', 'camp', 'r/v c', 'r/v','rv','motorized home','house on w','hwh','r/v','rv','r/v c','rv/van','van camper','motorhome','camper van','motor home','jet-ski']:\n",
    "        return 'Recreational Vehicle'\n",
    "    elif vehicle_type in ['special co','sanitaion','sanitaton','lawnmower','e-skateboa','go kart','horse','hrse','golf','tanke','golfcart', 'military v', 'utv bobcat', 'sweeper', 'govt p/u t', 'gokar', 'govt.', 'horse draw', 'farm', 'military', 'hosre', 'ladder', 'atv p', 'servi', 'trac.', 'swepe', 'wag', 'traffic to','nys a', 'dirt', 'segwa', 'nycha', 'snow', 'grain', 'gover', 'nyc d', 'track', 'fd fi', 'spc', 'light', 'tower', 'utv', 'nyc', 'loade', 'cat 9', 'fork-', 'trlr plt,', 'spec', 'seagr', 'cargo', 'nyc a', 'dot r', 'veriz', 'farm vehicle', 'carri', 'dp', 'gov v', 'nyc f', 'nycta','trailer','semi trail', 'flat rack', 'armored truck', 'street swe','e bike uni','golf cart','util','bulk agriculture','golf car','livestock rack','road sweep','van/truck','street cle','lift','skywatch','carriage','pedicab','snow plow','horse trai','utility ve','utility tr','golfcart','golf cart','armored truck','golf car','locomotive','skateboard','sanitation','horse carr','food cart','government','govt','principle']:\n",
    "        return 'Specialized or Miscellaneous Vehicle'\n",
    "    else:\n",
    "        return vehicle_type"
   ]
  },
  {
   "cell_type": "code",
   "execution_count": 81,
   "id": "787e6315",
   "metadata": {},
   "outputs": [],
   "source": [
    "# Apply this second function to each row in 'vehicle_type 2' column\n",
    "df_cleaned['VEHICLE TYPE CODE 2'] = df_cleaned['VEHICLE TYPE CODE 2'].apply(categorize_vehicle_2)"
   ]
  },
  {
   "cell_type": "code",
   "execution_count": 82,
   "id": "309ddf15",
   "metadata": {},
   "outputs": [
    {
     "name": "stdout",
     "output_type": "stream",
     "text": [
      "['Passenger Vehicle', nan, 'Truck', 'Two-Wheeled Vehicle', 'Emergency Vehicle', 'Bus', 'Commercial Vehicle', 'dl', 'Specialized or Miscellaneous Vehicle', 'pk', 'Construction Vehicle', 'multi-wheeled vehicle', 'fdny engin', 'util truck', 'Recreational Vehicle', 'wheelchair', '999', 'unk', 'nice bus', 'bmw', 'escootersi', 'mower', 'ez go', 'wh', 'unknown', 'refg', 'dirtbike', 'self insur', 'gov vehicl', 'ambulcance', 'fdny rig', 'mopad', 'courier va', 'mta nyc bu', 'tank', 'subn', 'mtabus', 'sprinter', 'unkn', 'ltrl', 'skatboard', 'toolcat', 'crane truc', 'unknow', 'other', 'uhaul truc', 'suburban', 'nycfiredep', 'cat payloa', \"revel mo'e\", 'garage', 'blue chevy', 'escavater', 'co', 'fdny ambu', 'm21', 'fire appar', 'special pu', 'bay crane', 'pallet', 'mini', 'gas bicycl', 'conedison', 'pedestrian', 'truck ladd', 'fire turck', 'moped clas', 'uhaul van', 'orange jlg', 'van box tr', 'limit use', 'food deliv', 'stake truc', 'boom lift/', 'pc', 'priv ambul', 'e skateboa', 'ec3', 'unk female', 'scooter no', 'tow4', 'dump gr', '0', 'unkown', 'ambiance', 'ups van', 'ambulamce', 'aerial lif', 'dollar van', 'unknown ve', 'standing s', 'glass rack', 'chevy carg', 'uknown', 'fire depar', 'cargo trai', 'fire engin', 'gmc delive', 'x trailer', 'c1', '3 wheel sc', 'u haul', 'skate boar', 'mo ped', 'moped scoo', '2dcp', 'tl', 'wheel load', 'fed ex van', 'trl', 'delivery w', 'oil tanker', 'gas mo-ped', 'pump', 'semi-trail', '18 wheel', 'left scene', 'short scho', 'bobcat sno', 'white', 'nyc sanita', 'utility ca', 'gator', 'pedi cab', 'komatsu lo', '50 cc moto', 'mopet', 'lateral tr', 'detached t', 'hoverboard', 'front end', 'transit mt', 'emt truck', 'embulance', 'back ho', 'trailer tr', 'mcr', 'trailer no', 'swingloade', 'moped bike', 'contructio', 'u-haul tru', 'trailor', 't350hd', 'cherry pic', 'dsny truck', 'e-unicycle', 'mopoed', 'motorizeds', 'uhaulwtowd', 'unicycle', 'fedex van', 'na', 'mta work t', 'pick', 'train cart', 'glben', 'towtruck', 'dart bike', 'comm truck', 'stand up s', 'psd', 'toolcat fo', 'b55 excava', 'mop pad', 'charter bu', 'bull dozer', 'backhoe', 'red vehicl', 'citibike', 'autotrlr t', 'nyc fire d', 'nyc truck', 'n/a', 'ecoline va', 'fdny picku', 'new flyer', 'mobility s', 'gas bike', 'department', '325flcr', 'refriger t', 'slingshoot', 'nyc fdny', 'cat caterp', 'u haul mov', 'motor dirt', 'util.', 'caterpilla', 'uni e-bike', 'plow', 'basic psd', 'for van', 'industrial', 'collection', 'mta bus  4', 'roadroller', 'motored sc', 'transit', 'enclosed body - removable enclosure', 'rental tru', 'school van', 'cadet', 'golf kart', 'nyc transi', 'fed ex', 'const equi', 'snow plowe', 'cmix', 'subn tn', 'uspcs truc', 'command po', 'plow  truc', 'plow truck', 'usps self', 'kenwo', 'e- motor b', 'rented boo', 'ambulance`', 'workh util', 'wheel barr', 'ny ems', 'uhaul box', 'e-sooter', 'comm food', 'truck cran', 'car traile', 'ut', 'esu rep', 'i1', 'us govt ve', 'left the s', 'moped elec', 'transport', 'folk lift', 'tilt tande', 'lawn mower', 'nyc acs va', 'escooter', 'frieghtlin', 'internatio', 'haul for h', 'vehicle 2', 'palfinger', 'ukn', 'pick truck', 'bob cat', 'access a r', 'rds', 'jetski', 'van/transi', 'hearse', 'amazon spr', 'p/sh', 'glp050vxev', 'tree cutte', 't630 forkl', 'escovator', 'frt', 'cargo truc', 'itas', 'glnen', 'historical', 'light trai', 'flatbed tr', '18 weeler', 'omt', 'armored tr', 'forklift t', 'short bus', 'buldozer', 'pick rd', 'blu bus', 'nyc dot', 'pumper tru', '600aj', 'spinter va', 'tank wh', 'livery omn', 'city mta b', 'hino tank', 'postal car', 'scotter', 'vendor cha', 'gmc', 'mobile foo', 'city', '2 hor', '00000', 'rd bldng m', 'gas t', 'unkno', 'boom crane', 'pedic', 'pallet jac', 'road', 'mta b', 'skidsteerl', 'man l', 'emt', 'skid', '11 pa', 'brown', 'sciss', 'box t', 'trim', 'feder', 'power', 'e-ska', 'wheel', 'econo', 'spec-', 'liebh', 'util wh', 'razor', 'u hau', 'mo-pe', 'backh', 'us po', '52? t', 'skate', 'art m', 'sprin', 'tra/r', 'ford', 'work', 'e350', 'stree', 'e250', 'bump', 'train', 'depar', 'aspha', 'detac', 'rep', 'self-', 'alumi', 'engin', 'john', 'churc', 'jlg l', 'cat32', 'black', 'elect', 'oms', 'man b', 'hand', 'bob c', 'c7c', 'towin', 'post', 'mtriz', 'se', 'front', 'inter', 'astro', 'back', 'enclo', 'semi-', 'armor', 'mopen', 'dsny', 'tr', 'crwzk', 'u-tru', 't650', 'safet', 'trt', 'vms t', 'sw', 'johnd', 'nv150', 'laund', 'waste', 'swt', 'tkp', 'self', 'apurp', 'scava', 'conv', 'car c', 'conta', 'case', 'cont', '72000', 'small', 'posta', 'unnko', 'd', 'bed', 'omr', 's/sp', 'unkow', 'pch', 'oml/', 'd1', 'e', \"gov't\", 'mecha', 'compa', 'uspst', 'fre t', 'dig-i', 'electronic', 'anbul', 'us ma', 'axo', 'dunba', 'transit va', 'e/bik', 'subn/', 'nd', 'milli', 'ems h', 'bobby', 'tour', 'com.', 'utll', 'epo', 'porta', 'smart', '18 wh', 'objec', 'acces', 'wc', 'hotdo', 'utility va', 'ec2', '(ceme', 'b5-44', 'mot s', 'lp', 'uber', 'fd la', 'com t', 'veh l', 'fd ny', 'gas s', 'trash', 'spc p', 'unk,', '2 doo', 'shcoo', '1', 'whbl', '994', 'boat', 'hwy c', 'g tow', 'ryder', '2ton', 'hook', 'rmp v', 'trial', 'van f', 'snowmobile', 'mta', '00', 'jlg b', 'cat 3', 'gray', 'campe', 'vant', 'jcb40', 'pu', 'booml', 'gmc v', 'dept', '013', 'e pas', 'bs', 'amula', 'limo/', 'new y', 'tandu', 'blue', 'moped/scoo', 'dumpster', 'ud', 'scaff', 'red,', 'utlit', 'cat 4', 'humme', 'dot #', 'ip', 'delv.', 'g omr', 'trlpm', 'fortl', 'appor', 'bus m', 'buss', 'u.s p', 'sbn', 'ap', 'es', 'light towe', 'wanc', 'elec', 'clean', 'yll p', 'none', 'uliti', 'impal', 'nyc s', 'peter', 'foot', 'tr/c', 'van h', 'house', 'del t', 'log', 'tow r', 'wesco', 'u.s.p', 'expre', 'drone', 'all-terrain vehicle', 'fllet', 'unk t', 'genie', 'junst', 'ladd', 'mac 1', 'dep v', 'oml', '000', 'dlev', 'unkwn', 'g pas', 'accee', 'intl', 'tuck', 'sen', 'big r', 'speac', 'llv', 'trai', 'mp', 'scl', 'foor', 'mta t', 'pz', 'subn-', 'uk', 'push', 'utilt', 'dlvr', 'sanat', 'ariel', 'naa', 'left', '12 fe', 'tt', 'heil', 'not i', 'com/a', 'm/a', 'off r', 'vms sign', 'pish', '4dr', 'engi', '.', '3-whe', 'f350', 'club', 'rolle', 'metal', 'nyc m', '2003', \"12' o\", 'nyc b', 'am/tr', 'van u', 'freih', 'luv', 'boxtr', 'truc', 'paylo', 'vend', 'tf', 'offic', 'eletr', 'lull', '4d', 'unk.', 'hoe-l', 'trc m', 'jlg m', 'genui', 'pumpe', 'lumbe', 'tilla', 'mac f', 'budge', 'scho', 'salt', 'silve', 'db', 'refg/', 'palle', 'hilow', '2015', 'trcic', 'srf', 'omc', 'qbe i', 'e1', 'lawn', 'dumpe', 'me/be', 'gr hs', 'doosk', 'isuzu', 'vas', '430', 'car t', 'wg', 'rolli', 'qmz', 'ynk', 'sem', 'vehic', 'workh', 'ecoli', 'cont-', '8x20', 'hi lo', 'quad', 'box m', 'van/', 'vam', 'dei v', 'vn', 'refrg', 'fltrl', 'nyc g', 'fed', 'roro', 'yw', 'n?a', 'unk l', 'g  co', 'us go', 'refq', 'deagr', 'car', 'unkl', 'usps#', 'parke', 'uni', 'unlno', 'sub', 'chvey', 'unk/l', 'dlr', 'ref g', 'unknw', 'nyc-s', '2dr', 'elecr', 'utyli', 'kw tr', 'kme', 'gene', 'escoo', 'mi/fu', 'lsa', 'p psd', 'f', 'h1', 'dot tow tr', 'fdny ferra', 'payloader', 'f1', '16m', 'straight t', 'johndeere', 'beyond sco', 'food vende', 'e- scooter', 'm/c', 'fd apparat', 'hyster for', 'dsny sweep', 'gov', 'scooter bi', 'freighntli', 'ic', 'x', 'white box', 'fd ladder', 'moped gas', 'fd engine', 'arcimoto', 'distributo', 'ford ec2', 'jj150t-4a', 'amazon van', 'uhaul trai', 'fdny bus', '2ydswheell', 'e wheelcha', 'cat escaba', 'white work', 'usps box t', 'maintenanc', 'mta esu ve', 'push cart', 'c', '17', 'gth-1056', 'foglift', 'rear end', 'scooter/mo', 'tracktor t', 'ambluance', 'scooter si', 'p/sh yw', 'subn/ambul', 'bobcat/for', 'frht-spr', 'carrier', 'a bulance', 'ne/fl', 'moto-scoot', 'electrict', 'c3', 'ford two t', 'frht vehic', 'comm van', 'fd pickup', 'mta bus 40', 'rolloff', 'fdny super', 'metrotech', 'gspc', 'semitraile', 'gas pwr sc', 'pickup sl', 'fdny 331 k', 'white van', 'unkowm', 'x com', 'fdny sp200', 'dot safety', 'seagrave t', '787', 'scooter (g', 'u haul tra', 'usps post', 'postoffice', 'unknown ca', 'tank truck', 'abmu', 'siting mop', 'box mail t', 'jlg ultra', 'l1', 'caravan', 'electricun', 'a', 'cement mix', 'c45 boc tr', 'freight li', 'police van', 'ram comm.', 'nycha fork', 'ltr', 'camper', 'trailer fl', 'workcart', 'derelict v', 'c40', 'white ford', 'chevy van', 'vendor foo', 'motor. sco', 'private am', '4 wheeler', 'telehandle', 'flywing', 'white dodg', 'red', 'acur', 'vehicle tr', 'food trail', 'comm vehic']\n"
     ]
    }
   ],
   "source": [
    "# Get remaining un-cleaned unique values in 'VEHICLE TYPE CODE 2' column\n",
    "print(df_cleaned['VEHICLE TYPE CODE 2'].unique().tolist())"
   ]
  },
  {
   "cell_type": "code",
   "execution_count": 83,
   "id": "a35ab0e4",
   "metadata": {},
   "outputs": [],
   "source": [
    "# Define a function that will place remaining vehicle 2 names into 10 different buckets\n",
    "def categorize_vehicle_3(vehicle_type):\n",
    "    if pd.isna(vehicle_type): # Keep null values null\n",
    "        return np.nan \n",
    "    if vehicle_type in ['Passenger Vehicle', 'school van', 'sprinter', 'subn', 'suburban', 'white van', 'sprin', 'sbn', 'livery omn']:\n",
    "        return 'Passenger Vehicle'\n",
    "    elif vehicle_type in ['Commercial Vehicle', 'ups van', 'fedex van', 'usps self', 'usps#', 'usps post', 'postoffice', 'usps box t', 'comm vehic', 'uspst', 'comm van', 'comm truck', 'posta', 'postal car', 'u.s p', 'us po', 'uspcs truc', 'post', 'fed ex', 'fed ex van', 'amazon van', 'courier va']:\n",
    "        return 'Commercial Vehicle'\n",
    "    elif vehicle_type in ['Truck', 'uhaul truc', 'uhaul van', '18 wheel', 'uhaulwtowd', 'u-haul tru', 'rental tru', 'refriger t', 'pick truck', 'flatbed tr', '18 weeler', 'u haul tra', 'pk', 'van box tr', 'box t', 'pick', 'u haul', 'refg', 'uhaul trai', 'dsny truck', 'towtruck', 'nyc truck', 'boxtr', 'truc']:\n",
    "        return 'Truck'\n",
    "    elif vehicle_type in ['Emergency Vehicle', 'fdny engin', 'emt truck', 'embulance', 'fire depar', 'nyc fire d', 'nyc fdny', 'fdny super', 'police van', 'priv ambul', 'fdny ambu', 'ambiance', 'ambulamce', 'ambluance', 'fdny picku', 'nycfiredep', 'ambulcance', 'abmu','fire turck', 'a bulance']:\n",
    "        return 'Emergency Vehicle'\n",
    "    elif vehicle_type in ['Bus', 'nice bus', 'charter bu', 'short bus', 'mtabus', 'mta bus  4', 'bus m', 'buss', 'blu bus', 'mta bus 40', 'fdny bus', 'mta nyc bu', 'mta b', 'city mta b', 'mta']:\n",
    "        return 'Bus'\n",
    "    elif vehicle_type in ['Two-Wheeled Vehicle', 'escootersi', 'gas bicycl', 'e-unicycle', 'citibike', 'unicycle', 'uni e-bike', 'moped bike', 'motor dirt', 'dart bike', 'mo ped', 'moped scoo', 'gas bike', 'scooter si', 'scooter/mo', '50 cc moto', 'mopet', 'mop pad', 'moto-scoot', 'mopoed', 'razor', 'moped clas', 'scooter no', 'dirtbike', 'escooter', 'scooter bi', 'e- scooter', 'scooter (g', 'mopad', 'moped/scoo', 'moped elec', 'moped gas', 'gas mo-ped', 'e-sooter', 'e/bik', 'electricun']:\n",
    "        return 'Two-Wheeled Vehicle'\n",
    "    elif vehicle_type in ['Construction Vehicle', 'contructio', 'forklift t', 'buldozer', 'gth-1056', 'pallet', 'back ho', 'backh', 'backhoe', 'back', 'crane truc', 'bay crane', 'bull dozer'] :\n",
    "        return 'Construction Vehicle'\n",
    "    elif vehicle_type in ['Recreational Vehicle', 'x trailer', 'semitraile', 'trailor', 'trl', 'autotrlr t','fltrl', 'trailer tr', 'semi-trail', 'semi-', 'trailer no']:\n",
    "        return 'Recreational Vehicle'\n",
    "    elif vehicle_type in ['Specialized or Miscellaneous Vehicle', 'gov vehicl', 'utility ca', 'hoverboard', 'snowmobile', 'boat', 'tracktor t', 'tank', 'armored tr', 'armor', 'wheelchair', 'util truck', 'golf kart', 'snow plowe', 'plow  truc', 'plow truck']:\n",
    "        return 'Specialized or Miscellaneous Vehicle'\n",
    "    else:\n",
    "        return 'Unknown/Other'"
   ]
  },
  {
   "cell_type": "code",
   "execution_count": 84,
   "id": "0e8a5283",
   "metadata": {},
   "outputs": [],
   "source": [
    "# Apply this third function to each row in 'vehicle_type 2' column\n",
    "df_cleaned['VEHICLE TYPE CODE 2'] = df_cleaned['VEHICLE TYPE CODE 2'].apply(categorize_vehicle_3)"
   ]
  },
  {
   "cell_type": "code",
   "execution_count": 85,
   "id": "ef5dd1a9",
   "metadata": {},
   "outputs": [
    {
     "name": "stdout",
     "output_type": "stream",
     "text": [
      "['Passenger Vehicle', nan, 'Truck', 'Two-Wheeled Vehicle', 'Emergency Vehicle', 'Bus', 'Commercial Vehicle', 'Unknown/Other', 'Specialized or Miscellaneous Vehicle', 'Construction Vehicle', 'Recreational Vehicle']\n"
     ]
    }
   ],
   "source": [
    "# Make sure all vehicle types have been categorized in 'VEHICLE TYPE CODE 2'\n",
    "print(df_cleaned['VEHICLE TYPE CODE 2'].unique().tolist())"
   ]
  },
  {
   "cell_type": "code",
   "execution_count": 86,
   "id": "e84dc364",
   "metadata": {},
   "outputs": [
    {
     "name": "stdout",
     "output_type": "stream",
     "text": [
      "Passenger Vehicle                       1142125\n",
      "Unknown/Other                            100589\n",
      "Two-Wheeled Vehicle                       71236\n",
      "Truck                                     55676\n",
      "Commercial Vehicle                        51086\n",
      "Bus                                       28414\n",
      "Emergency Vehicle                          5324\n",
      "Specialized or Miscellaneous Vehicle       1300\n",
      "Construction Vehicle                       1148\n",
      "Recreational Vehicle                        136\n",
      "Name: VEHICLE TYPE CODE 2, dtype: int64\n"
     ]
    }
   ],
   "source": [
    "# Print the value counts for the cleaned 'VEHICLE TYPE CODE 2' column\n",
    "value_counts_2 = df_cleaned['VEHICLE TYPE CODE 2'].value_counts()\n",
    "print(value_counts_2)"
   ]
  },
  {
   "cell_type": "code",
   "execution_count": 87,
   "id": "2b70da17",
   "metadata": {},
   "outputs": [
    {
     "data": {
      "text/plain": [
       "CRASH DATE                             0\n",
       "CRASH TIME                             0\n",
       "BOROUGH                                0\n",
       "ZIP CODE                               0\n",
       "LATITUDE                          231236\n",
       "LONGITUDE                         231236\n",
       "LOCATION                          231236\n",
       "ON STREET NAME                    367300\n",
       "CROSS STREET NAME                 572213\n",
       "OFF STREET NAME                  1462597\n",
       "NUMBER OF PERSONS INJURED              0\n",
       "NUMBER OF PERSONS KILLED               0\n",
       "NUMBER OF PEDESTRIANS INJURED          0\n",
       "NUMBER OF PEDESTRIANS KILLED           0\n",
       "NUMBER OF CYCLIST INJURED              0\n",
       "NUMBER OF CYCLIST KILLED               0\n",
       "NUMBER OF MOTORIST INJURED             0\n",
       "NUMBER OF MOTORIST KILLED              0\n",
       "CONTRIBUTING FACTOR VEHICLE 1          0\n",
       "CONTRIBUTING FACTOR VEHICLE 2     273747\n",
       "CONTRIBUTING FACTOR VEHICLE 3    1677802\n",
       "CONTRIBUTING FACTOR VEHICLE 4    1767492\n",
       "CONTRIBUTING FACTOR VEHICLE 5    1787009\n",
       "COLLISION_ID                           0\n",
       "VEHICLE TYPE CODE 1                    0\n",
       "VEHICLE TYPE CODE 2               337396\n",
       "VEHICLE TYPE CODE 3              1681423\n",
       "VEHICLE TYPE CODE 4              1768164\n",
       "VEHICLE TYPE CODE 5              1787148\n",
       "dtype: int64"
      ]
     },
     "execution_count": 87,
     "metadata": {},
     "output_type": "execute_result"
    }
   ],
   "source": [
    "# See final number of null values in each column\n",
    "df_cleaned.isna().sum() "
   ]
  },
  {
   "cell_type": "code",
   "execution_count": 88,
   "id": "383ec899",
   "metadata": {},
   "outputs": [],
   "source": [
    "df_cleaned['LATITUDE'].fillna(-999.0000, inplace=True)\n",
    "df_cleaned['LONGITUDE'].fillna(-999.0000, inplace=True)\n",
    "df_cleaned['LOCATION'].fillna('NA', inplace=True)\n",
    "df_cleaned['ON STREET NAME'].fillna('NA', inplace=True)\n",
    "df_cleaned['OFF STREET NAME'].fillna('NA', inplace=True)\n",
    "df_cleaned['CROSS STREET NAME'].fillna('NA', inplace=True)\n",
    "df_cleaned['CONTRIBUTING FACTOR VEHICLE 2'].fillna('NA', inplace=True)\n",
    "df_cleaned['CONTRIBUTING FACTOR VEHICLE 3'].fillna('NA', inplace=True)\n",
    "df_cleaned['CONTRIBUTING FACTOR VEHICLE 4'].fillna('NA', inplace=True)\n",
    "df_cleaned['CONTRIBUTING FACTOR VEHICLE 5'].fillna('NA', inplace=True)\n",
    "df_cleaned['VEHICLE TYPE CODE 2'].fillna('Unknown/Other', inplace=True)\n",
    "df_cleaned['VEHICLE TYPE CODE 3'].fillna('NA', inplace=True)\n",
    "df_cleaned['VEHICLE TYPE CODE 4'].fillna('NA', inplace=True)\n",
    "df_cleaned['VEHICLE TYPE CODE 5'].fillna('NA', inplace=True)"
   ]
  },
  {
   "cell_type": "code",
   "execution_count": 89,
   "id": "4178959e",
   "metadata": {},
   "outputs": [
    {
     "data": {
      "text/plain": [
       "CRASH DATE                       0\n",
       "CRASH TIME                       0\n",
       "BOROUGH                          0\n",
       "ZIP CODE                         0\n",
       "LATITUDE                         0\n",
       "LONGITUDE                        0\n",
       "LOCATION                         0\n",
       "ON STREET NAME                   0\n",
       "CROSS STREET NAME                0\n",
       "OFF STREET NAME                  0\n",
       "NUMBER OF PERSONS INJURED        0\n",
       "NUMBER OF PERSONS KILLED         0\n",
       "NUMBER OF PEDESTRIANS INJURED    0\n",
       "NUMBER OF PEDESTRIANS KILLED     0\n",
       "NUMBER OF CYCLIST INJURED        0\n",
       "NUMBER OF CYCLIST KILLED         0\n",
       "NUMBER OF MOTORIST INJURED       0\n",
       "NUMBER OF MOTORIST KILLED        0\n",
       "CONTRIBUTING FACTOR VEHICLE 1    0\n",
       "CONTRIBUTING FACTOR VEHICLE 2    0\n",
       "CONTRIBUTING FACTOR VEHICLE 3    0\n",
       "CONTRIBUTING FACTOR VEHICLE 4    0\n",
       "CONTRIBUTING FACTOR VEHICLE 5    0\n",
       "COLLISION_ID                     0\n",
       "VEHICLE TYPE CODE 1              0\n",
       "VEHICLE TYPE CODE 2              0\n",
       "VEHICLE TYPE CODE 3              0\n",
       "VEHICLE TYPE CODE 4              0\n",
       "VEHICLE TYPE CODE 5              0\n",
       "dtype: int64"
      ]
     },
     "execution_count": 89,
     "metadata": {},
     "output_type": "execute_result"
    }
   ],
   "source": [
    "# See final number of null values in each column\n",
    "df_cleaned.isna().sum() "
   ]
  },
  {
   "cell_type": "code",
   "execution_count": 90,
   "id": "e27db188",
   "metadata": {},
   "outputs": [
    {
     "data": {
      "text/html": [
       "<div>\n",
       "<style scoped>\n",
       "    .dataframe tbody tr th:only-of-type {\n",
       "        vertical-align: middle;\n",
       "    }\n",
       "\n",
       "    .dataframe tbody tr th {\n",
       "        vertical-align: top;\n",
       "    }\n",
       "\n",
       "    .dataframe thead th {\n",
       "        text-align: right;\n",
       "    }\n",
       "</style>\n",
       "<table border=\"1\" class=\"dataframe\">\n",
       "  <thead>\n",
       "    <tr style=\"text-align: right;\">\n",
       "      <th></th>\n",
       "      <th>CRASH DATE</th>\n",
       "      <th>CRASH TIME</th>\n",
       "      <th>BOROUGH</th>\n",
       "      <th>ZIP CODE</th>\n",
       "      <th>LATITUDE</th>\n",
       "      <th>LONGITUDE</th>\n",
       "      <th>LOCATION</th>\n",
       "      <th>ON STREET NAME</th>\n",
       "      <th>CROSS STREET NAME</th>\n",
       "      <th>OFF STREET NAME</th>\n",
       "      <th>...</th>\n",
       "      <th>CONTRIBUTING FACTOR VEHICLE 2</th>\n",
       "      <th>CONTRIBUTING FACTOR VEHICLE 3</th>\n",
       "      <th>CONTRIBUTING FACTOR VEHICLE 4</th>\n",
       "      <th>CONTRIBUTING FACTOR VEHICLE 5</th>\n",
       "      <th>COLLISION_ID</th>\n",
       "      <th>VEHICLE TYPE CODE 1</th>\n",
       "      <th>VEHICLE TYPE CODE 2</th>\n",
       "      <th>VEHICLE TYPE CODE 3</th>\n",
       "      <th>VEHICLE TYPE CODE 4</th>\n",
       "      <th>VEHICLE TYPE CODE 5</th>\n",
       "    </tr>\n",
       "  </thead>\n",
       "  <tbody>\n",
       "    <tr>\n",
       "      <th>0</th>\n",
       "      <td>09/11/2021</td>\n",
       "      <td>2:39</td>\n",
       "      <td>BRONX</td>\n",
       "      <td>10463</td>\n",
       "      <td>-999.000000</td>\n",
       "      <td>-999.0000</td>\n",
       "      <td>NA</td>\n",
       "      <td>WHITESTONE EXPRESSWAY</td>\n",
       "      <td>20 AVENUE</td>\n",
       "      <td>NA</td>\n",
       "      <td>...</td>\n",
       "      <td>Unspecified</td>\n",
       "      <td>NA</td>\n",
       "      <td>NA</td>\n",
       "      <td>NA</td>\n",
       "      <td>4455765</td>\n",
       "      <td>Passenger Vehicle</td>\n",
       "      <td>Passenger Vehicle</td>\n",
       "      <td>NA</td>\n",
       "      <td>NA</td>\n",
       "      <td>NA</td>\n",
       "    </tr>\n",
       "    <tr>\n",
       "      <th>1</th>\n",
       "      <td>03/26/2022</td>\n",
       "      <td>11:45</td>\n",
       "      <td>BRONX</td>\n",
       "      <td>10463</td>\n",
       "      <td>-999.000000</td>\n",
       "      <td>-999.0000</td>\n",
       "      <td>NA</td>\n",
       "      <td>QUEENSBORO BRIDGE UPPER</td>\n",
       "      <td>NA</td>\n",
       "      <td>NA</td>\n",
       "      <td>...</td>\n",
       "      <td>NA</td>\n",
       "      <td>NA</td>\n",
       "      <td>NA</td>\n",
       "      <td>NA</td>\n",
       "      <td>4513547</td>\n",
       "      <td>Passenger Vehicle</td>\n",
       "      <td>Unknown/Other</td>\n",
       "      <td>NA</td>\n",
       "      <td>NA</td>\n",
       "      <td>NA</td>\n",
       "    </tr>\n",
       "    <tr>\n",
       "      <th>2</th>\n",
       "      <td>06/29/2022</td>\n",
       "      <td>6:55</td>\n",
       "      <td>BRONX</td>\n",
       "      <td>10463</td>\n",
       "      <td>-999.000000</td>\n",
       "      <td>-999.0000</td>\n",
       "      <td>NA</td>\n",
       "      <td>THROGS NECK BRIDGE</td>\n",
       "      <td>NA</td>\n",
       "      <td>NA</td>\n",
       "      <td>...</td>\n",
       "      <td>Unspecified</td>\n",
       "      <td>NA</td>\n",
       "      <td>NA</td>\n",
       "      <td>NA</td>\n",
       "      <td>4541903</td>\n",
       "      <td>Passenger Vehicle</td>\n",
       "      <td>Truck</td>\n",
       "      <td>NA</td>\n",
       "      <td>NA</td>\n",
       "      <td>NA</td>\n",
       "    </tr>\n",
       "    <tr>\n",
       "      <th>3</th>\n",
       "      <td>09/11/2021</td>\n",
       "      <td>9:35</td>\n",
       "      <td>BROOKLYN</td>\n",
       "      <td>11208</td>\n",
       "      <td>40.667202</td>\n",
       "      <td>-73.8665</td>\n",
       "      <td>(40.667202, -73.8665)</td>\n",
       "      <td>NA</td>\n",
       "      <td>NA</td>\n",
       "      <td>1211      LORING AVENUE</td>\n",
       "      <td>...</td>\n",
       "      <td>NA</td>\n",
       "      <td>NA</td>\n",
       "      <td>NA</td>\n",
       "      <td>NA</td>\n",
       "      <td>4456314</td>\n",
       "      <td>Passenger Vehicle</td>\n",
       "      <td>Unknown/Other</td>\n",
       "      <td>NA</td>\n",
       "      <td>NA</td>\n",
       "      <td>NA</td>\n",
       "    </tr>\n",
       "    <tr>\n",
       "      <th>5</th>\n",
       "      <td>04/14/2021</td>\n",
       "      <td>12:47</td>\n",
       "      <td>BRONX</td>\n",
       "      <td>10463</td>\n",
       "      <td>-999.000000</td>\n",
       "      <td>-999.0000</td>\n",
       "      <td>NA</td>\n",
       "      <td>MAJOR DEEGAN EXPRESSWAY RAMP</td>\n",
       "      <td>NA</td>\n",
       "      <td>NA</td>\n",
       "      <td>...</td>\n",
       "      <td>Unspecified</td>\n",
       "      <td>NA</td>\n",
       "      <td>NA</td>\n",
       "      <td>NA</td>\n",
       "      <td>4407458</td>\n",
       "      <td>Truck</td>\n",
       "      <td>Passenger Vehicle</td>\n",
       "      <td>NA</td>\n",
       "      <td>NA</td>\n",
       "      <td>NA</td>\n",
       "    </tr>\n",
       "  </tbody>\n",
       "</table>\n",
       "<p>5 rows × 29 columns</p>\n",
       "</div>"
      ],
      "text/plain": [
       "   CRASH DATE CRASH TIME   BOROUGH ZIP CODE    LATITUDE  LONGITUDE  \\\n",
       "0  09/11/2021       2:39     BRONX    10463 -999.000000  -999.0000   \n",
       "1  03/26/2022      11:45     BRONX    10463 -999.000000  -999.0000   \n",
       "2  06/29/2022       6:55     BRONX    10463 -999.000000  -999.0000   \n",
       "3  09/11/2021       9:35  BROOKLYN    11208   40.667202   -73.8665   \n",
       "5  04/14/2021      12:47     BRONX    10463 -999.000000  -999.0000   \n",
       "\n",
       "                LOCATION                ON STREET NAME CROSS STREET NAME  \\\n",
       "0                     NA         WHITESTONE EXPRESSWAY         20 AVENUE   \n",
       "1                     NA       QUEENSBORO BRIDGE UPPER                NA   \n",
       "2                     NA            THROGS NECK BRIDGE                NA   \n",
       "3  (40.667202, -73.8665)                            NA                NA   \n",
       "5                     NA  MAJOR DEEGAN EXPRESSWAY RAMP                NA   \n",
       "\n",
       "           OFF STREET NAME  ...  CONTRIBUTING FACTOR VEHICLE 2  \\\n",
       "0                       NA  ...                    Unspecified   \n",
       "1                       NA  ...                             NA   \n",
       "2                       NA  ...                    Unspecified   \n",
       "3  1211      LORING AVENUE  ...                             NA   \n",
       "5                       NA  ...                    Unspecified   \n",
       "\n",
       "   CONTRIBUTING FACTOR VEHICLE 3  CONTRIBUTING FACTOR VEHICLE 4  \\\n",
       "0                             NA                             NA   \n",
       "1                             NA                             NA   \n",
       "2                             NA                             NA   \n",
       "3                             NA                             NA   \n",
       "5                             NA                             NA   \n",
       "\n",
       "   CONTRIBUTING FACTOR VEHICLE 5  COLLISION_ID  VEHICLE TYPE CODE 1  \\\n",
       "0                             NA       4455765    Passenger Vehicle   \n",
       "1                             NA       4513547    Passenger Vehicle   \n",
       "2                             NA       4541903    Passenger Vehicle   \n",
       "3                             NA       4456314    Passenger Vehicle   \n",
       "5                             NA       4407458                Truck   \n",
       "\n",
       "   VEHICLE TYPE CODE 2  VEHICLE TYPE CODE 3 VEHICLE TYPE CODE 4  \\\n",
       "0    Passenger Vehicle                   NA                  NA   \n",
       "1        Unknown/Other                   NA                  NA   \n",
       "2                Truck                   NA                  NA   \n",
       "3        Unknown/Other                   NA                  NA   \n",
       "5    Passenger Vehicle                   NA                  NA   \n",
       "\n",
       "  VEHICLE TYPE CODE 5  \n",
       "0                  NA  \n",
       "1                  NA  \n",
       "2                  NA  \n",
       "3                  NA  \n",
       "5                  NA  \n",
       "\n",
       "[5 rows x 29 columns]"
      ]
     },
     "execution_count": 90,
     "metadata": {},
     "output_type": "execute_result"
    }
   ],
   "source": [
    "# Preview the data\n",
    "df_cleaned.head()"
   ]
  },
  {
   "cell_type": "code",
   "execution_count": 91,
   "id": "4af07795",
   "metadata": {},
   "outputs": [],
   "source": [
    "# Export cleaned dataframe to a csv file\n",
    "df_cleaned.to_csv(f'/Users/shashankkashi/Downloads/Motor_Vehicle_Collisions_-_Crashes_Cleaned.csv', index=False)\n",
    "# Change to your own directory"
   ]
  },
  {
   "cell_type": "code",
   "execution_count": 63,
   "id": "70c411df",
   "metadata": {},
   "outputs": [
    {
     "data": {
      "text/plain": [
       "(1794430, 29)"
      ]
     },
     "execution_count": 63,
     "metadata": {},
     "output_type": "execute_result"
    }
   ],
   "source": [
    "df_cleaned.shape"
   ]
  },
  {
   "cell_type": "code",
   "execution_count": null,
   "id": "ff0bf3eb",
   "metadata": {},
   "outputs": [],
   "source": []
  }
 ],
 "metadata": {
  "kernelspec": {
   "display_name": "Python 3 (ipykernel)",
   "language": "python",
   "name": "python3"
  },
  "language_info": {
   "codemirror_mode": {
    "name": "ipython",
    "version": 3
   },
   "file_extension": ".py",
   "mimetype": "text/x-python",
   "name": "python",
   "nbconvert_exporter": "python",
   "pygments_lexer": "ipython3",
   "version": "3.11.5"
  }
 },
 "nbformat": 4,
 "nbformat_minor": 5
}
